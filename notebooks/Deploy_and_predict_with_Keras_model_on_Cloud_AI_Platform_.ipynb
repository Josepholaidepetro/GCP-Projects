{
  "nbformat": 4,
  "nbformat_minor": 0,
  "metadata": {
    "environment": {
      "name": "tf2-2-3-gpu.2-3.m59",
      "type": "gcloud",
      "uri": "gcr.io/deeplearning-platform-release/tf2-2-3-gpu.2-3:m59"
    },
    "kernelspec": {
      "display_name": "Python 3",
      "language": "python",
      "name": "python3"
    },
    "language_info": {
      "codemirror_mode": {
        "name": "ipython",
        "version": 3
      },
      "file_extension": ".py",
      "mimetype": "text/x-python",
      "name": "python",
      "nbconvert_exporter": "python",
      "pygments_lexer": "ipython3",
      "version": "3.8.3"
    },
    "colab": {
      "name": " Deploy and predict with Keras model on Cloud AI Platform.",
      "provenance": []
    }
  },
  "cells": [
    {
      "cell_type": "markdown",
      "metadata": {
        "id": "9d2XI1_FcyO_"
      },
      "source": [
        "# Deploy and predict with Keras model on Cloud AI Platform.\n",
        "\n",
        "**Learning Objectives**\n",
        "\n",
        "1. Setup up the environment\n",
        "1. Deploy trained Keras model to Cloud AI Platform\n",
        "1. Online predict from model on Cloud AI Platform\n",
        "1. Batch predict from model on Cloud AI Platform\n",
        "\n",
        "\n",
        "## Introduction \n",
        "**Verify that you have previously Trained your Keras model. If not, go back to [train_keras_ai_platform_babyweight.ipynb](../solutions/train_keras_ai_platform_babyweight.ipynb) create them.**\n",
        "In this notebook, we'll be deploying our Keras model to Cloud AI Platform and creating predictions.\n",
        "\n",
        "We will set up the environment, deploy a trained Keras model to Cloud AI Platform, online predict from deployed model on Cloud AI Platform, and batch predict from deployed model on Cloud AI Platform.\n",
        "\n",
        "Each learning objective will correspond to a __#TODO__ in this student lab notebook."
      ]
    },
    {
      "cell_type": "markdown",
      "metadata": {
        "id": "hJ7ByvoXzpVI"
      },
      "source": [
        "## Set up environment variables and load necessary libraries"
      ]
    },
    {
      "cell_type": "markdown",
      "metadata": {
        "id": "u0VMbt0zcyPN"
      },
      "source": [
        "Import necessary libraries."
      ]
    },
    {
      "cell_type": "code",
      "metadata": {
        "id": "9vRgkZLDcyPO"
      },
      "source": [
        "!sudo chown -R jupyter:jupyter /home/jupyter/training-data-analyst"
      ],
      "execution_count": null,
      "outputs": []
    },
    {
      "cell_type": "code",
      "metadata": {
        "id": "TVRDsYGOcyPR"
      },
      "source": [
        "import os"
      ],
      "execution_count": null,
      "outputs": []
    },
    {
      "cell_type": "markdown",
      "metadata": {
        "id": "636t9LxrcyPR"
      },
      "source": [
        "### Set environment variables.\n",
        "\n",
        "Set environment variables so that we can use them throughout the entire lab. We will be using our project name for our bucket, so you only need to change your project and region."
      ]
    },
    {
      "cell_type": "code",
      "metadata": {
        "id": "jjSxgHaWcyPT",
        "outputId": "5b5f1c3f-59a0-45af-fc2e-1ca36646b4f0"
      },
      "source": [
        "%%bash\n",
        "PROJECT=$(gcloud config list project --format \"value(core.project)\")\n",
        "echo \"Your current GCP Project Name is: \"$PROJECT"
      ],
      "execution_count": null,
      "outputs": [
        {
          "name": "stdout",
          "output_type": "stream",
          "text": [
            "Your current GCP Project Name is: qwiklabs-gcp-03-596373e6e715\n"
          ]
        }
      ]
    },
    {
      "cell_type": "code",
      "metadata": {
        "id": "TEQKHY8kcyPY"
      },
      "source": [
        "# Change these to try this notebook out\n",
        "BUCKET = 'qwiklabs-gcp-03-596373e6e715'\n",
        "PROJECT = 'qwiklabs-gcp-03-596373e6e715'\n",
        "REGION = 'us-central1' # TODO 1 Replace with your REGION"
      ],
      "execution_count": null,
      "outputs": []
    },
    {
      "cell_type": "code",
      "metadata": {
        "id": "Pm5e_5X0cyPa"
      },
      "source": [
        "os.environ[\"BUCKET\"] = BUCKET\n",
        "os.environ[\"REGION\"] = REGION\n",
        "os.environ[\"TFVERSION\"] = \"1.8\""
      ],
      "execution_count": null,
      "outputs": []
    },
    {
      "cell_type": "code",
      "metadata": {
        "id": "7aMBlZL4cyPc",
        "outputId": "391c3fe4-b3de-4f96-ec74-7809f25a90c1"
      },
      "source": [
        "%%bash\n",
        "gcloud config set compute/region $REGION"
      ],
      "execution_count": null,
      "outputs": [
        {
          "name": "stderr",
          "output_type": "stream",
          "text": [
            "Updated property [compute/region].\n"
          ]
        }
      ]
    },
    {
      "cell_type": "markdown",
      "metadata": {
        "id": "LMdLpBI_cyPe"
      },
      "source": [
        "## Check our trained model files\n",
        "\n",
        "Let's check the directory structure of our outputs of our trained model in folder we exported the model to in our last [lab](../solutions/10_train_keras_ai_platform_babyweight.ipynb). We'll want to deploy the saved_model.pb within the timestamped directory as well as the variable values in the variables folder. Therefore, we need the path of the timestamped directory so that everything within it can be found by Cloud AI Platform's model deployment service."
      ]
    },
    {
      "cell_type": "code",
      "metadata": {
        "id": "0_XDS22ycyPg",
        "outputId": "ed845e75-4948-41a1-9c32-0fbef3109bab"
      },
      "source": [
        "%%bash\n",
        "gsutil ls gs://${BUCKET}/babyweight/trained_model"
      ],
      "execution_count": null,
      "outputs": [
        {
          "name": "stdout",
          "output_type": "stream",
          "text": [
            "gs://qwiklabs-gcp-03-596373e6e715/babyweight/trained_model/checkpoint\n",
            "gs://qwiklabs-gcp-03-596373e6e715/babyweight/trained_model/events.out.tfevents.1529347276.cmle-training-master-a137ac0fff-0-9q8r4\n",
            "gs://qwiklabs-gcp-03-596373e6e715/babyweight/trained_model/graph.pbtxt\n",
            "gs://qwiklabs-gcp-03-596373e6e715/babyweight/trained_model/model.ckpt-342784.data-00000-of-00003\n",
            "gs://qwiklabs-gcp-03-596373e6e715/babyweight/trained_model/model.ckpt-342784.data-00001-of-00003\n",
            "gs://qwiklabs-gcp-03-596373e6e715/babyweight/trained_model/model.ckpt-342784.data-00002-of-00003\n",
            "gs://qwiklabs-gcp-03-596373e6e715/babyweight/trained_model/model.ckpt-342784.index\n",
            "gs://qwiklabs-gcp-03-596373e6e715/babyweight/trained_model/model.ckpt-342784.meta\n",
            "gs://qwiklabs-gcp-03-596373e6e715/babyweight/trained_model/model.ckpt-376661.data-00000-of-00003\n",
            "gs://qwiklabs-gcp-03-596373e6e715/babyweight/trained_model/model.ckpt-376661.data-00001-of-00003\n",
            "gs://qwiklabs-gcp-03-596373e6e715/babyweight/trained_model/model.ckpt-376661.data-00002-of-00003\n",
            "gs://qwiklabs-gcp-03-596373e6e715/babyweight/trained_model/model.ckpt-376661.index\n",
            "gs://qwiklabs-gcp-03-596373e6e715/babyweight/trained_model/model.ckpt-376661.meta\n",
            "gs://qwiklabs-gcp-03-596373e6e715/babyweight/trained_model/model.ckpt-390628.data-00000-of-00003\n",
            "gs://qwiklabs-gcp-03-596373e6e715/babyweight/trained_model/model.ckpt-390628.data-00001-of-00003\n",
            "gs://qwiklabs-gcp-03-596373e6e715/babyweight/trained_model/model.ckpt-390628.data-00002-of-00003\n",
            "gs://qwiklabs-gcp-03-596373e6e715/babyweight/trained_model/model.ckpt-390628.index\n",
            "gs://qwiklabs-gcp-03-596373e6e715/babyweight/trained_model/model.ckpt-390628.meta\n",
            "gs://qwiklabs-gcp-03-596373e6e715/babyweight/trained_model/20201217024556/\n",
            "gs://qwiklabs-gcp-03-596373e6e715/babyweight/trained_model/20201217030149/\n",
            "gs://qwiklabs-gcp-03-596373e6e715/babyweight/trained_model/babyweight/\n",
            "gs://qwiklabs-gcp-03-596373e6e715/babyweight/trained_model/checkpoints/\n",
            "gs://qwiklabs-gcp-03-596373e6e715/babyweight/trained_model/eval/\n",
            "gs://qwiklabs-gcp-03-596373e6e715/babyweight/trained_model/export/\n"
          ]
        }
      ]
    },
    {
      "cell_type": "code",
      "metadata": {
        "id": "cgdcsJRfcyPh",
        "outputId": "d3cedbb3-9017-4af5-e991-a6ab31905738"
      },
      "source": [
        "%%bash\n",
        "MODEL_LOCATION=$(gsutil ls -ld -- gs://${BUCKET}/babyweight/trained_model/2* \\\n",
        "                 | tail -1)\n",
        "gsutil ls ${MODEL_LOCATION}"
      ],
      "execution_count": null,
      "outputs": [
        {
          "name": "stdout",
          "output_type": "stream",
          "text": [
            "gs://qwiklabs-gcp-03-596373e6e715/babyweight/trained_model/20201217030149/\n",
            "gs://qwiklabs-gcp-03-596373e6e715/babyweight/trained_model/20201217030149/saved_model.pb\n",
            "gs://qwiklabs-gcp-03-596373e6e715/babyweight/trained_model/20201217030149/assets/\n",
            "gs://qwiklabs-gcp-03-596373e6e715/babyweight/trained_model/20201217030149/variables/\n"
          ]
        }
      ]
    },
    {
      "cell_type": "markdown",
      "metadata": {
        "id": "ZTycT1DKcyPi"
      },
      "source": [
        "## Lab Task #2: Deploy trained model\n",
        "\n",
        "Deploying the trained model to act as a REST web service is a simple gcloud call."
      ]
    },
    {
      "cell_type": "code",
      "metadata": {
        "id": "Lbm8ZnLhcyPj",
        "outputId": "9f8072b8-7723-4998-fbb1-dce8aa4a449e"
      },
      "source": [
        "%%bash\n",
        "MODEL_NAME=\"babyweight\"\n",
        "MODEL_VERSION=\"ml_on_gcp\"\n",
        "MODEL_LOCATION=$(gsutil ls -ld -- gs://${BUCKET}/babyweight/trained_model/2* | tail -1 | tr -d '[:space:]') # TODO 2\n",
        "echo \"Deleting and deploying $MODEL_NAME $MODEL_VERSION from $MODEL_LOCATION\"\n",
        "# gcloud ai-platform versions delete ${MODEL_VERSION} --model ${MODEL_NAME}\n",
        "# gcloud ai-platform models delete ${MODEL_NAME}\n",
        "gcloud ai-platform models create ${MODEL_NAME} --regions ${REGION}\n",
        "gcloud ai-platform versions create ${MODEL_VERSION} \\\n",
        "    --model=${MODEL_NAME} \\\n",
        "    --origin=${MODEL_LOCATION} \\\n",
        "    --runtime-version=2.1 \\\n",
        "    --python-version=3.7"
      ],
      "execution_count": null,
      "outputs": [
        {
          "name": "stdout",
          "output_type": "stream",
          "text": [
            "Deleting and deploying babyweight ml_on_gcp from gs://qwiklabs-gcp-03-596373e6e715/babyweight/trained_model/20201217030149/\n"
          ]
        },
        {
          "name": "stderr",
          "output_type": "stream",
          "text": [
            "Using endpoint [https://ml.googleapis.com/]\n",
            "Creating version (this might take a few minutes)......\n",
            "................................................................................................................................................................................................................................................................................................................................................................................done.\n"
          ]
        }
      ]
    },
    {
      "cell_type": "markdown",
      "metadata": {
        "id": "g7qptDnAcyPk"
      },
      "source": [
        "## Use model to make online prediction."
      ]
    },
    {
      "cell_type": "markdown",
      "metadata": {
        "id": "hbIZ7VmlcyPl"
      },
      "source": [
        "### Python API\n",
        "\n",
        "We can use the Python API to send a JSON request to the endpoint of the service to make it predict a baby's weight. The order of the responses are the order of the instances."
      ]
    },
    {
      "cell_type": "code",
      "metadata": {
        "id": "5W9tYM6xcyPl",
        "outputId": "400a362a-7b51-4ea7-d89f-e576f2fe94fe"
      },
      "source": [
        "from oauth2client.client import GoogleCredentials\n",
        "import requests\n",
        "import json\n",
        "\n",
        "MODEL_NAME = \"babyweight\" # TODO 3a\n",
        "MODEL_VERSION = \"ml_on_gcp\" # TODO 3a\n",
        "\n",
        "token = GoogleCredentials.get_application_default().get_access_token().access_token\n",
        "api = \"https://ml.googleapis.com/v1/projects/{}/models/{}/versions/{}:predict\" \\\n",
        "         .format(PROJECT, MODEL_NAME, MODEL_VERSION)\n",
        "headers = {\"Authorization\": \"Bearer \" + token }\n",
        "data = {\n",
        "  \"instances\": [\n",
        "    {\n",
        "      \"is_male\": \"True\",\n",
        "      \"mother_age\": 26.0,\n",
        "      \"plurality\": \"Single(1)\",\n",
        "      \"gestation_weeks\": 39\n",
        "    },\n",
        "    {\n",
        "      \"is_male\": \"False\",\n",
        "      \"mother_age\": 29.0,\n",
        "      \"plurality\": \"Single(1)\",\n",
        "      \"gestation_weeks\": 38\n",
        "    },\n",
        "    {\n",
        "      \"is_male\": \"True\",\n",
        "      \"mother_age\": 26.0,\n",
        "      \"plurality\": \"Triplets(3)\",\n",
        "      \"gestation_weeks\": 39\n",
        "    },\n",
        "    {\n",
        "      # TODO 3a\n",
        "      \"is_male\": \"Unknown\",\n",
        "      \"mother_age\": 29.0,\n",
        "      \"plurality\": \"Multiple(2+)\",\n",
        "      \"gestation_weeks\": 38\n",
        "    },\n",
        "  ]\n",
        "}\n",
        "response = requests.post(api, json=data, headers=headers)\n",
        "print(response.content)"
      ],
      "execution_count": null,
      "outputs": [
        {
          "name": "stdout",
          "output_type": "stream",
          "text": [
            "b'{\"predictions\": [{\"weight\": [5.814619064331055]}, {\"weight\": [6.089856147766113]}, {\"weight\": [4.153970718383789]}, {\"weight\": [5.261815071105957]}]}'\n"
          ]
        }
      ]
    },
    {
      "cell_type": "markdown",
      "metadata": {
        "id": "pm1umOYQcyPn"
      },
      "source": [
        "The predictions for the four instances were: 5.33, 6.09, 2.50, and 5.86 pounds respectively when I ran it (your results might be different)."
      ]
    },
    {
      "cell_type": "markdown",
      "metadata": {
        "id": "-DFuluN8cyPp"
      },
      "source": [
        "### gcloud shell API\n",
        "\n",
        "Instead we could use the gcloud shell API. Create a newline delimited JSON file with one instance per line and submit using gcloud."
      ]
    },
    {
      "cell_type": "code",
      "metadata": {
        "id": "nOVkAID_cyPp",
        "outputId": "3aab34c9-03e0-44a3-d4c1-f55c9091c3c6"
      },
      "source": [
        "%%writefile inputs.json\n",
        "{\"is_male\": \"True\", \"mother_age\": 26.0, \"plurality\": \"Single(1)\", \"gestation_weeks\": 39}\n",
        "{\"is_male\": \"False\", \"mother_age\": 26.0, \"plurality\": \"Single(1)\", \"gestation_weeks\": 39} # TODO 3b"
      ],
      "execution_count": null,
      "outputs": [
        {
          "name": "stdout",
          "output_type": "stream",
          "text": [
            "Overwriting inputs.json\n"
          ]
        }
      ]
    },
    {
      "cell_type": "markdown",
      "metadata": {
        "id": "y-2A6HMjcyPq"
      },
      "source": [
        "Now call `gcloud ai-platform predict` using the JSON we just created and point to our deployed `model` and `version`."
      ]
    },
    {
      "cell_type": "code",
      "metadata": {
        "id": "96uBk_AdcyPq"
      },
      "source": [
        "%%bash\n",
        "gcloud ai-platform predict \\\n",
        "    --model=babyweight # TODO 3b\\\n",
        "    --json-instances=inputs.json \\\n",
        "    --version=ml_on_gcp # TODO 3b"
      ],
      "execution_count": null,
      "outputs": []
    },
    {
      "cell_type": "markdown",
      "metadata": {
        "id": "PPBlKxO_cyPs"
      },
      "source": [
        "## Use model to make batch prediction.\n",
        "\n",
        "Batch prediction is commonly used when you have thousands to millions of predictions. It will create an actual Cloud AI Platform job for prediction."
      ]
    },
    {
      "cell_type": "code",
      "metadata": {
        "id": "rkumGVwBcyPt"
      },
      "source": [
        "%%bash\n",
        "INPUT=gs://${BUCKET}/babyweight/batchpred/inputs.json\n",
        "OUTPUT=gs://${BUCKET}/babyweight/batchpred/outputs\n",
        "gsutil cp inputs.json $INPUT\n",
        "gsutil -m rm -rf $OUTPUT \n",
        "gcloud ai-platform jobs submit prediction babypred_$(date -u +%y%m%d_%H%M%S) \\\n",
        "    --data-format=TEXT \\\n",
        "    --region ${REGION} \\\n",
        "    --input-paths=$INPUT \\\n",
        "    --output-path=$OUTPUT \\\n",
        "    --model=babyweight # TODO 4\\\n",
        "    --version=ml_on_gcp # TODO 4"
      ],
      "execution_count": null,
      "outputs": []
    },
    {
      "cell_type": "markdown",
      "metadata": {
        "id": "jF74WsthcyPu"
      },
      "source": [
        "## Lab Summary:\n",
        "In this lab, we set up the environment, deployed a trained Keras model to Cloud AI Platform, online predicted from deployed model on Cloud AI Platform, and batch predicted from deployed model on Cloud AI Platform."
      ]
    }
  ]
}