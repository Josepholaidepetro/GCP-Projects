{
  "nbformat": 4,
  "nbformat_minor": 0,
  "metadata": {
    "environment": {
      "name": "tf2-2-3-gpu.2-3.m59",
      "type": "gcloud",
      "uri": "gcr.io/deeplearning-platform-release/tf2-2-3-gpu.2-3:m59"
    },
    "kernelspec": {
      "display_name": "Python 3",
      "language": "python",
      "name": "python3"
    },
    "language_info": {
      "codemirror_mode": {
        "name": "ipython",
        "version": 3
      },
      "file_extension": ".py",
      "mimetype": "text/x-python",
      "name": "python",
      "nbconvert_exporter": "python",
      "pygments_lexer": "ipython3",
      "version": "3.8.3"
    },
    "colab": {
      "name": "Creating a sampled dataset.ipynb",
      "provenance": [],
      "include_colab_link": true
    }
  },
  "cells": [
    {
      "cell_type": "markdown",
      "metadata": {
        "id": "view-in-github",
        "colab_type": "text"
      },
      "source": [
        "<a href=\"https://colab.research.google.com/github/Josepholaidepetro/GCP-Projects/blob/main/notebooks/Creating_a_sampled_dataset.ipynb\" target=\"_parent\"><img src=\"https://colab.research.google.com/assets/colab-badge.svg\" alt=\"Open In Colab\"/></a>"
      ]
    },
    {
      "cell_type": "markdown",
      "metadata": {
        "id": "-hIqlPCYYD1i"
      },
      "source": [
        "<h1> 2. Creating a sampled dataset </h1>\n",
        "\n",
        "This notebook illustrates:\n",
        "<ol>\n",
        "<li> Sampling a BigQuery dataset to create datasets for ML\n",
        "<li> Preprocessing with Pandas\n",
        "</ol>"
      ]
    },
    {
      "cell_type": "code",
      "metadata": {
        "id": "xrCX1tX_YD1w"
      },
      "source": [
        "!sudo chown -R jupyter:jupyter /home/jupyter/training-data-analyst"
      ],
      "execution_count": null,
      "outputs": []
    },
    {
      "cell_type": "code",
      "metadata": {
        "id": "9AEAbjYjYD1z"
      },
      "source": [
        "# Ensure the right version of Tensorflow is installed.\n",
        "!pip freeze | grep tensorflow==2.1"
      ],
      "execution_count": null,
      "outputs": []
    },
    {
      "cell_type": "code",
      "metadata": {
        "id": "4meIVSiSYD10"
      },
      "source": [
        "# change these to try this notebook out\n",
        "BUCKET = 'qwiklabs-gcp-00-e0281c0549f5'\n",
        "PROJECT = 'qwiklabs-gcp-00-e0281c0549f5'\n",
        "REGION = 'us-central1'"
      ],
      "execution_count": null,
      "outputs": []
    },
    {
      "cell_type": "code",
      "metadata": {
        "id": "gnHT7Q2SYD11"
      },
      "source": [
        "import os\n",
        "os.environ['BUCKET'] = 'qwiklabs-gcp-00-e0281c0549f5'\n",
        "os.environ['PROJECT'] = 'qwiklabs-gcp-00-e0281c0549f5'\n",
        "os.environ['REGION'] = 'us-central1'"
      ],
      "execution_count": null,
      "outputs": []
    },
    {
      "cell_type": "code",
      "metadata": {
        "id": "jrD5_2NeYD12"
      },
      "source": [
        "%%bash\n",
        "if ! gsutil ls | grep -q gs://${BUCKET}/; then\n",
        "  gsutil mb -l ${REGION} gs://${BUCKET}\n",
        "fi"
      ],
      "execution_count": null,
      "outputs": []
    },
    {
      "cell_type": "markdown",
      "metadata": {
        "id": "V0iJD5p2YD13"
      },
      "source": [
        "<h2> Create ML dataset by sampling using BigQuery </h2>\n",
        "<p>\n",
        "Let's sample the BigQuery data to create smaller datasets.\n",
        "</p>"
      ]
    },
    {
      "cell_type": "code",
      "metadata": {
        "id": "OASVoZFPYD14"
      },
      "source": [
        "# Create SQL query using natality data after the year 2000\n",
        "from google.cloud import bigquery\n",
        "query = \"\"\"\n",
        "SELECT\n",
        "  weight_pounds,\n",
        "  is_male,\n",
        "  mother_age,\n",
        "  plurality,\n",
        "  gestation_weeks,\n",
        "  FARM_FINGERPRINT(CONCAT(CAST(YEAR AS STRING), CAST(month AS STRING))) AS hashmonth\n",
        "FROM\n",
        "  publicdata.samples.natality\n",
        "WHERE year > 2000\n",
        "\"\"\""
      ],
      "execution_count": null,
      "outputs": []
    },
    {
      "cell_type": "markdown",
      "metadata": {
        "id": "zrUPMTtNYD16"
      },
      "source": [
        "There are only a limited number of years and months in the dataset. Let's see what the hashmonths are."
      ]
    },
    {
      "cell_type": "code",
      "metadata": {
        "id": "QuMQfKtNYD18",
        "outputId": "b54b225f-4238-4de2-d526-3ff402090c28"
      },
      "source": [
        "sampling_query = \"SELECT COUNT(weight_pounds) AS num_babies FROM (\" + query + \") WHERE MOD(ABS(hashmonth), 10) < 8 AND RAND() < 0.0004\"\n",
        "print(sampling_query)"
      ],
      "execution_count": null,
      "outputs": [
        {
          "name": "stdout",
          "output_type": "stream",
          "text": [
            "SELECT COUNT(weight_pounds) AS num_babies FROM (\n",
            "SELECT\n",
            "  weight_pounds,\n",
            "  is_male,\n",
            "  mother_age,\n",
            "  plurality,\n",
            "  gestation_weeks,\n",
            "  FARM_FINGERPRINT(CONCAT(CAST(YEAR AS STRING), CAST(month AS STRING))) AS hashmonth\n",
            "FROM\n",
            "  publicdata.samples.natality\n",
            "WHERE year > 2000\n",
            ") WHERE MOD(ABS(hashmonth), 10) < 8 AND RAND() < 0.0004\n"
          ]
        }
      ]
    },
    {
      "cell_type": "code",
      "metadata": {
        "id": "MS7mzU8QYD2A",
        "outputId": "9ed05cb1-a698-4042-c2cf-232a2461ae4a"
      },
      "source": [
        "sampling_df = bigquery.Client().query(sampling_query).to_dataframe()\n",
        "sampling_df.head()"
      ],
      "execution_count": null,
      "outputs": [
        {
          "data": {
            "text/html": [
              "<div>\n",
              "<style scoped>\n",
              "    .dataframe tbody tr th:only-of-type {\n",
              "        vertical-align: middle;\n",
              "    }\n",
              "\n",
              "    .dataframe tbody tr th {\n",
              "        vertical-align: top;\n",
              "    }\n",
              "\n",
              "    .dataframe thead th {\n",
              "        text-align: right;\n",
              "    }\n",
              "</style>\n",
              "<table border=\"1\" class=\"dataframe\">\n",
              "  <thead>\n",
              "    <tr style=\"text-align: right;\">\n",
              "      <th></th>\n",
              "      <th>num_babies</th>\n",
              "    </tr>\n",
              "  </thead>\n",
              "  <tbody>\n",
              "    <tr>\n",
              "      <th>0</th>\n",
              "      <td>10923</td>\n",
              "    </tr>\n",
              "  </tbody>\n",
              "</table>\n",
              "</div>"
            ],
            "text/plain": [
              "   num_babies\n",
              "0       10923"
            ]
          },
          "execution_count": 14,
          "metadata": {},
          "output_type": "execute_result"
        }
      ]
    },
    {
      "cell_type": "code",
      "metadata": {
        "id": "AnuOeF1AYD2B"
      },
      "source": [
        "sampling_query = \"\"\"\n",
        "SELECT * FROM (\n",
        "SELECT\n",
        "  weight_pounds,\n",
        "  is_male,\n",
        "  mother_age,\n",
        "  plurality,\n",
        "  gestation_weeks,\n",
        "  ABS(FARM_FINGERPRINT(CONCAT(CAST(YEAR AS STRING), CAST(month AS STRING)))) AS hashmonth\n",
        "FROM\n",
        "  publicdata.samples.natality\n",
        "WHERE year > 2000 AND weight_pounds IS NOT null AND gEstation_weeks IS NOT null\n",
        ") \n",
        "WHERE MOD(ABS(hashmonth), 10) < 8 AND RAND() < 0.0004\n",
        "\"\"\""
      ],
      "execution_count": null,
      "outputs": []
    },
    {
      "cell_type": "code",
      "metadata": {
        "id": "SADuMKhfYD2C",
        "outputId": "e026a811-6274-48c6-b994-45ec08be08d1"
      },
      "source": [
        "sampling_df = bigquery.Client().query(sampling_query).to_dataframe()\n",
        "sampling_df.head()"
      ],
      "execution_count": null,
      "outputs": [
        {
          "data": {
            "text/html": [
              "<div>\n",
              "<style scoped>\n",
              "    .dataframe tbody tr th:only-of-type {\n",
              "        vertical-align: middle;\n",
              "    }\n",
              "\n",
              "    .dataframe tbody tr th {\n",
              "        vertical-align: top;\n",
              "    }\n",
              "\n",
              "    .dataframe thead th {\n",
              "        text-align: right;\n",
              "    }\n",
              "</style>\n",
              "<table border=\"1\" class=\"dataframe\">\n",
              "  <thead>\n",
              "    <tr style=\"text-align: right;\">\n",
              "      <th></th>\n",
              "      <th>weight_pounds</th>\n",
              "      <th>is_male</th>\n",
              "      <th>mother_age</th>\n",
              "      <th>plurality</th>\n",
              "      <th>gestation_weeks</th>\n",
              "      <th>hashmonth</th>\n",
              "    </tr>\n",
              "  </thead>\n",
              "  <tbody>\n",
              "    <tr>\n",
              "      <th>0</th>\n",
              "      <td>7.374463</td>\n",
              "      <td>False</td>\n",
              "      <td>25</td>\n",
              "      <td>1</td>\n",
              "      <td>44</td>\n",
              "      <td>1403073183891835564</td>\n",
              "    </tr>\n",
              "    <tr>\n",
              "      <th>1</th>\n",
              "      <td>7.561856</td>\n",
              "      <td>True</td>\n",
              "      <td>26</td>\n",
              "      <td>1</td>\n",
              "      <td>37</td>\n",
              "      <td>7445587375556638376</td>\n",
              "    </tr>\n",
              "    <tr>\n",
              "      <th>2</th>\n",
              "      <td>7.251004</td>\n",
              "      <td>False</td>\n",
              "      <td>18</td>\n",
              "      <td>1</td>\n",
              "      <td>40</td>\n",
              "      <td>9068386407968572094</td>\n",
              "    </tr>\n",
              "    <tr>\n",
              "      <th>3</th>\n",
              "      <td>6.519069</td>\n",
              "      <td>False</td>\n",
              "      <td>37</td>\n",
              "      <td>1</td>\n",
              "      <td>40</td>\n",
              "      <td>2700219941840496344</td>\n",
              "    </tr>\n",
              "    <tr>\n",
              "      <th>4</th>\n",
              "      <td>7.154000</td>\n",
              "      <td>True</td>\n",
              "      <td>26</td>\n",
              "      <td>1</td>\n",
              "      <td>42</td>\n",
              "      <td>6749419160304400104</td>\n",
              "    </tr>\n",
              "  </tbody>\n",
              "</table>\n",
              "</div>"
            ],
            "text/plain": [
              "   weight_pounds  is_male  mother_age  plurality  gestation_weeks  \\\n",
              "0       7.374463    False          25          1               44   \n",
              "1       7.561856     True          26          1               37   \n",
              "2       7.251004    False          18          1               40   \n",
              "3       6.519069    False          37          1               40   \n",
              "4       7.154000     True          26          1               42   \n",
              "\n",
              "             hashmonth  \n",
              "0  1403073183891835564  \n",
              "1  7445587375556638376  \n",
              "2  9068386407968572094  \n",
              "3  2700219941840496344  \n",
              "4  6749419160304400104  "
            ]
          },
          "execution_count": 36,
          "metadata": {},
          "output_type": "execute_result"
        }
      ]
    },
    {
      "cell_type": "code",
      "metadata": {
        "id": "8WIKmiBHYD2D",
        "outputId": "41c6494a-bd56-4a25-e279-d4036ddc0ae3"
      },
      "source": [
        "sampling_df.shape"
      ],
      "execution_count": null,
      "outputs": [
        {
          "data": {
            "text/plain": [
              "(10827, 6)"
            ]
          },
          "execution_count": 37,
          "metadata": {},
          "output_type": "execute_result"
        }
      ]
    },
    {
      "cell_type": "code",
      "metadata": {
        "id": "Wf1qMY0-YD2E",
        "outputId": "c6994e89-80f1-4666-8355-fb43b44d7022"
      },
      "source": [
        "sampling_df.describe()"
      ],
      "execution_count": null,
      "outputs": [
        {
          "data": {
            "text/html": [
              "<div>\n",
              "<style scoped>\n",
              "    .dataframe tbody tr th:only-of-type {\n",
              "        vertical-align: middle;\n",
              "    }\n",
              "\n",
              "    .dataframe tbody tr th {\n",
              "        vertical-align: top;\n",
              "    }\n",
              "\n",
              "    .dataframe thead th {\n",
              "        text-align: right;\n",
              "    }\n",
              "</style>\n",
              "<table border=\"1\" class=\"dataframe\">\n",
              "  <thead>\n",
              "    <tr style=\"text-align: right;\">\n",
              "      <th></th>\n",
              "      <th>weight_pounds</th>\n",
              "      <th>mother_age</th>\n",
              "      <th>plurality</th>\n",
              "      <th>gestation_weeks</th>\n",
              "      <th>hashmonth</th>\n",
              "    </tr>\n",
              "  </thead>\n",
              "  <tbody>\n",
              "    <tr>\n",
              "      <th>count</th>\n",
              "      <td>10827.000000</td>\n",
              "      <td>10827.000000</td>\n",
              "      <td>10827.000000</td>\n",
              "      <td>10827.000000</td>\n",
              "      <td>1.082700e+04</td>\n",
              "    </tr>\n",
              "    <tr>\n",
              "      <th>mean</th>\n",
              "      <td>7.199704</td>\n",
              "      <td>27.316616</td>\n",
              "      <td>1.037129</td>\n",
              "      <td>38.548074</td>\n",
              "      <td>4.371356e+18</td>\n",
              "    </tr>\n",
              "    <tr>\n",
              "      <th>std</th>\n",
              "      <td>1.350902</td>\n",
              "      <td>6.125939</td>\n",
              "      <td>0.200469</td>\n",
              "      <td>2.614843</td>\n",
              "      <td>2.791597e+18</td>\n",
              "    </tr>\n",
              "    <tr>\n",
              "      <th>min</th>\n",
              "      <td>0.524700</td>\n",
              "      <td>13.000000</td>\n",
              "      <td>1.000000</td>\n",
              "      <td>17.000000</td>\n",
              "      <td>7.493147e+16</td>\n",
              "    </tr>\n",
              "    <tr>\n",
              "      <th>25%</th>\n",
              "      <td>6.558752</td>\n",
              "      <td>22.000000</td>\n",
              "      <td>1.000000</td>\n",
              "      <td>38.000000</td>\n",
              "      <td>1.639186e+18</td>\n",
              "    </tr>\n",
              "    <tr>\n",
              "      <th>50%</th>\n",
              "      <td>7.312733</td>\n",
              "      <td>27.000000</td>\n",
              "      <td>1.000000</td>\n",
              "      <td>39.000000</td>\n",
              "      <td>4.329667e+18</td>\n",
              "    </tr>\n",
              "    <tr>\n",
              "      <th>75%</th>\n",
              "      <td>8.024826</td>\n",
              "      <td>32.000000</td>\n",
              "      <td>1.000000</td>\n",
              "      <td>40.000000</td>\n",
              "      <td>6.888635e+18</td>\n",
              "    </tr>\n",
              "    <tr>\n",
              "      <th>max</th>\n",
              "      <td>15.500702</td>\n",
              "      <td>50.000000</td>\n",
              "      <td>5.000000</td>\n",
              "      <td>47.000000</td>\n",
              "      <td>9.183606e+18</td>\n",
              "    </tr>\n",
              "  </tbody>\n",
              "</table>\n",
              "</div>"
            ],
            "text/plain": [
              "       weight_pounds    mother_age     plurality  gestation_weeks  \\\n",
              "count   10827.000000  10827.000000  10827.000000     10827.000000   \n",
              "mean        7.199704     27.316616      1.037129        38.548074   \n",
              "std         1.350902      6.125939      0.200469         2.614843   \n",
              "min         0.524700     13.000000      1.000000        17.000000   \n",
              "25%         6.558752     22.000000      1.000000        38.000000   \n",
              "50%         7.312733     27.000000      1.000000        39.000000   \n",
              "75%         8.024826     32.000000      1.000000        40.000000   \n",
              "max        15.500702     50.000000      5.000000        47.000000   \n",
              "\n",
              "          hashmonth  \n",
              "count  1.082700e+04  \n",
              "mean   4.371356e+18  \n",
              "std    2.791597e+18  \n",
              "min    7.493147e+16  \n",
              "25%    1.639186e+18  \n",
              "50%    4.329667e+18  \n",
              "75%    6.888635e+18  \n",
              "max    9.183606e+18  "
            ]
          },
          "execution_count": 38,
          "metadata": {},
          "output_type": "execute_result"
        }
      ]
    },
    {
      "cell_type": "code",
      "metadata": {
        "id": "vjkq0NGuYD2F",
        "outputId": "e2a78171-2cbd-4dec-ba32-29da6ae44548"
      },
      "source": [
        "# Call BigQuery but GROUP BY the hashmonth and see number of records for each group to enable us to get the correct train and evaluation percentages\n",
        "df = bigquery.Client().query(\"SELECT hashmonth, COUNT(weight_pounds) AS num_babies FROM (\" + query + \") GROUP BY hashmonth\").to_dataframe()\n",
        "print(\"There are {} unique hashmonths.\".format(len(df)))\n",
        "df.head()"
      ],
      "execution_count": null,
      "outputs": [
        {
          "name": "stdout",
          "output_type": "stream",
          "text": [
            "There are 96 unique hashmonths.\n"
          ]
        },
        {
          "data": {
            "text/html": [
              "<div>\n",
              "<style scoped>\n",
              "    .dataframe tbody tr th:only-of-type {\n",
              "        vertical-align: middle;\n",
              "    }\n",
              "\n",
              "    .dataframe tbody tr th {\n",
              "        vertical-align: top;\n",
              "    }\n",
              "\n",
              "    .dataframe thead th {\n",
              "        text-align: right;\n",
              "    }\n",
              "</style>\n",
              "<table border=\"1\" class=\"dataframe\">\n",
              "  <thead>\n",
              "    <tr style=\"text-align: right;\">\n",
              "      <th></th>\n",
              "      <th>hashmonth</th>\n",
              "      <th>num_babies</th>\n",
              "    </tr>\n",
              "  </thead>\n",
              "  <tbody>\n",
              "    <tr>\n",
              "      <th>0</th>\n",
              "      <td>-2126480030009879160</td>\n",
              "      <td>344357</td>\n",
              "    </tr>\n",
              "    <tr>\n",
              "      <th>1</th>\n",
              "      <td>8904940584331855459</td>\n",
              "      <td>344191</td>\n",
              "    </tr>\n",
              "    <tr>\n",
              "      <th>2</th>\n",
              "      <td>6691862025345277042</td>\n",
              "      <td>338820</td>\n",
              "    </tr>\n",
              "    <tr>\n",
              "      <th>3</th>\n",
              "      <td>-1525201076796226340</td>\n",
              "      <td>303664</td>\n",
              "    </tr>\n",
              "    <tr>\n",
              "      <th>4</th>\n",
              "      <td>5934265245228309013</td>\n",
              "      <td>324598</td>\n",
              "    </tr>\n",
              "  </tbody>\n",
              "</table>\n",
              "</div>"
            ],
            "text/plain": [
              "             hashmonth  num_babies\n",
              "0 -2126480030009879160      344357\n",
              "1  8904940584331855459      344191\n",
              "2  6691862025345277042      338820\n",
              "3 -1525201076796226340      303664\n",
              "4  5934265245228309013      324598"
            ]
          },
          "execution_count": 39,
          "metadata": {},
          "output_type": "execute_result"
        }
      ]
    },
    {
      "cell_type": "markdown",
      "metadata": {
        "id": "Ck3w5I-IYD2G"
      },
      "source": [
        "Here's a way to get a well distributed portion of the data in such a way that the test and train sets do not overlap:"
      ]
    },
    {
      "cell_type": "code",
      "metadata": {
        "id": "-0hqvankYD2H",
        "outputId": "d97f4185-b3ce-4614-f7fe-f8b3223bf4d3"
      },
      "source": [
        "# Added the RAND() so that we can now subsample from each of the hashmonths to get approximately the record counts we want\n",
        "trainQuery = \"SELECT * FROM (\" + query + \") WHERE ABS(MOD(hashmonth, 4)) < 3 AND RAND() < 0.0005\"\n",
        "evalQuery = \"SELECT * FROM (\" + query + \") WHERE ABS(MOD(hashmonth, 4)) = 3 AND RAND() < 0.0005\"\n",
        "traindf = bigquery.Client().query(trainQuery).to_dataframe()\n",
        "evaldf = bigquery.Client().query(evalQuery).to_dataframe()\n",
        "print(\"There are {} examples in the train dataset and {} in the eval dataset\".format(len(traindf), len(evaldf)))"
      ],
      "execution_count": null,
      "outputs": [
        {
          "name": "stdout",
          "output_type": "stream",
          "text": [
            "There are 13397 examples in the train dataset and 3253 in the eval dataset\n"
          ]
        }
      ]
    },
    {
      "cell_type": "markdown",
      "metadata": {
        "id": "UKdA6LQuYD2I"
      },
      "source": [
        "<h2> Preprocess data using Pandas </h2>\n",
        "<p>\n",
        "Let's add extra rows to simulate the lack of ultrasound. In the process, we'll also change the plurality column to be a string."
      ]
    },
    {
      "cell_type": "code",
      "metadata": {
        "id": "mVqdwyWaYD2J",
        "outputId": "875cdb95-a8fd-425c-b399-c2ae7f0bda47"
      },
      "source": [
        "traindf.head()"
      ],
      "execution_count": null,
      "outputs": [
        {
          "data": {
            "text/html": [
              "<div>\n",
              "<style scoped>\n",
              "    .dataframe tbody tr th:only-of-type {\n",
              "        vertical-align: middle;\n",
              "    }\n",
              "\n",
              "    .dataframe tbody tr th {\n",
              "        vertical-align: top;\n",
              "    }\n",
              "\n",
              "    .dataframe thead th {\n",
              "        text-align: right;\n",
              "    }\n",
              "</style>\n",
              "<table border=\"1\" class=\"dataframe\">\n",
              "  <thead>\n",
              "    <tr style=\"text-align: right;\">\n",
              "      <th></th>\n",
              "      <th>weight_pounds</th>\n",
              "      <th>is_male</th>\n",
              "      <th>mother_age</th>\n",
              "      <th>plurality</th>\n",
              "      <th>gestation_weeks</th>\n",
              "      <th>hashmonth</th>\n",
              "    </tr>\n",
              "  </thead>\n",
              "  <tbody>\n",
              "    <tr>\n",
              "      <th>0</th>\n",
              "      <td>6.825512</td>\n",
              "      <td>False</td>\n",
              "      <td>32</td>\n",
              "      <td>1</td>\n",
              "      <td>39.0</td>\n",
              "      <td>3095933535584005890</td>\n",
              "    </tr>\n",
              "    <tr>\n",
              "      <th>1</th>\n",
              "      <td>6.393406</td>\n",
              "      <td>True</td>\n",
              "      <td>37</td>\n",
              "      <td>1</td>\n",
              "      <td>39.0</td>\n",
              "      <td>3095933535584005890</td>\n",
              "    </tr>\n",
              "    <tr>\n",
              "      <th>2</th>\n",
              "      <td>6.937947</td>\n",
              "      <td>False</td>\n",
              "      <td>21</td>\n",
              "      <td>1</td>\n",
              "      <td>38.0</td>\n",
              "      <td>3095933535584005890</td>\n",
              "    </tr>\n",
              "    <tr>\n",
              "      <th>3</th>\n",
              "      <td>7.561856</td>\n",
              "      <td>False</td>\n",
              "      <td>25</td>\n",
              "      <td>1</td>\n",
              "      <td>41.0</td>\n",
              "      <td>3095933535584005890</td>\n",
              "    </tr>\n",
              "    <tr>\n",
              "      <th>4</th>\n",
              "      <td>6.124442</td>\n",
              "      <td>True</td>\n",
              "      <td>20</td>\n",
              "      <td>1</td>\n",
              "      <td>40.0</td>\n",
              "      <td>3095933535584005890</td>\n",
              "    </tr>\n",
              "  </tbody>\n",
              "</table>\n",
              "</div>"
            ],
            "text/plain": [
              "   weight_pounds  is_male  mother_age  plurality  gestation_weeks  \\\n",
              "0       6.825512    False          32          1             39.0   \n",
              "1       6.393406     True          37          1             39.0   \n",
              "2       6.937947    False          21          1             38.0   \n",
              "3       7.561856    False          25          1             41.0   \n",
              "4       6.124442     True          20          1             40.0   \n",
              "\n",
              "             hashmonth  \n",
              "0  3095933535584005890  \n",
              "1  3095933535584005890  \n",
              "2  3095933535584005890  \n",
              "3  3095933535584005890  \n",
              "4  3095933535584005890  "
            ]
          },
          "execution_count": 47,
          "metadata": {},
          "output_type": "execute_result"
        }
      ]
    },
    {
      "cell_type": "markdown",
      "metadata": {
        "id": "AJDfb0ilYD2K"
      },
      "source": [
        "Also notice that there are some very important numeric fields that are missing in some rows (the count in Pandas doesn't count missing data)"
      ]
    },
    {
      "cell_type": "code",
      "metadata": {
        "id": "YluN3zkwYD2L",
        "outputId": "195ec189-05b2-4400-e7e9-c5f24ac668e3"
      },
      "source": [
        "# Let's look at a small sample of the training data\n",
        "traindf.describe()"
      ],
      "execution_count": null,
      "outputs": [
        {
          "data": {
            "text/html": [
              "<div>\n",
              "<style scoped>\n",
              "    .dataframe tbody tr th:only-of-type {\n",
              "        vertical-align: middle;\n",
              "    }\n",
              "\n",
              "    .dataframe tbody tr th {\n",
              "        vertical-align: top;\n",
              "    }\n",
              "\n",
              "    .dataframe thead th {\n",
              "        text-align: right;\n",
              "    }\n",
              "</style>\n",
              "<table border=\"1\" class=\"dataframe\">\n",
              "  <thead>\n",
              "    <tr style=\"text-align: right;\">\n",
              "      <th></th>\n",
              "      <th>weight_pounds</th>\n",
              "      <th>mother_age</th>\n",
              "      <th>plurality</th>\n",
              "      <th>gestation_weeks</th>\n",
              "      <th>hashmonth</th>\n",
              "    </tr>\n",
              "  </thead>\n",
              "  <tbody>\n",
              "    <tr>\n",
              "      <th>count</th>\n",
              "      <td>13382.000000</td>\n",
              "      <td>13397.000000</td>\n",
              "      <td>13397.000000</td>\n",
              "      <td>13306.000000</td>\n",
              "      <td>1.339700e+04</td>\n",
              "    </tr>\n",
              "    <tr>\n",
              "      <th>mean</th>\n",
              "      <td>7.236979</td>\n",
              "      <td>27.294096</td>\n",
              "      <td>1.031276</td>\n",
              "      <td>38.633398</td>\n",
              "      <td>3.544354e+17</td>\n",
              "    </tr>\n",
              "    <tr>\n",
              "      <th>std</th>\n",
              "      <td>1.303598</td>\n",
              "      <td>6.099915</td>\n",
              "      <td>0.186090</td>\n",
              "      <td>2.573354</td>\n",
              "      <td>5.209314e+18</td>\n",
              "    </tr>\n",
              "    <tr>\n",
              "      <th>min</th>\n",
              "      <td>0.500449</td>\n",
              "      <td>13.000000</td>\n",
              "      <td>1.000000</td>\n",
              "      <td>17.000000</td>\n",
              "      <td>-9.183606e+18</td>\n",
              "    </tr>\n",
              "    <tr>\n",
              "      <th>25%</th>\n",
              "      <td>6.563162</td>\n",
              "      <td>22.000000</td>\n",
              "      <td>1.000000</td>\n",
              "      <td>38.000000</td>\n",
              "      <td>-3.340563e+18</td>\n",
              "    </tr>\n",
              "    <tr>\n",
              "      <th>50%</th>\n",
              "      <td>7.312733</td>\n",
              "      <td>27.000000</td>\n",
              "      <td>1.000000</td>\n",
              "      <td>39.000000</td>\n",
              "      <td>-2.605984e+17</td>\n",
              "    </tr>\n",
              "    <tr>\n",
              "      <th>75%</th>\n",
              "      <td>8.046873</td>\n",
              "      <td>32.000000</td>\n",
              "      <td>1.000000</td>\n",
              "      <td>40.000000</td>\n",
              "      <td>5.896568e+18</td>\n",
              "    </tr>\n",
              "    <tr>\n",
              "      <th>max</th>\n",
              "      <td>11.993147</td>\n",
              "      <td>50.000000</td>\n",
              "      <td>4.000000</td>\n",
              "      <td>47.000000</td>\n",
              "      <td>8.599690e+18</td>\n",
              "    </tr>\n",
              "  </tbody>\n",
              "</table>\n",
              "</div>"
            ],
            "text/plain": [
              "       weight_pounds    mother_age     plurality  gestation_weeks  \\\n",
              "count   13382.000000  13397.000000  13397.000000     13306.000000   \n",
              "mean        7.236979     27.294096      1.031276        38.633398   \n",
              "std         1.303598      6.099915      0.186090         2.573354   \n",
              "min         0.500449     13.000000      1.000000        17.000000   \n",
              "25%         6.563162     22.000000      1.000000        38.000000   \n",
              "50%         7.312733     27.000000      1.000000        39.000000   \n",
              "75%         8.046873     32.000000      1.000000        40.000000   \n",
              "max        11.993147     50.000000      4.000000        47.000000   \n",
              "\n",
              "          hashmonth  \n",
              "count  1.339700e+04  \n",
              "mean   3.544354e+17  \n",
              "std    5.209314e+18  \n",
              "min   -9.183606e+18  \n",
              "25%   -3.340563e+18  \n",
              "50%   -2.605984e+17  \n",
              "75%    5.896568e+18  \n",
              "max    8.599690e+18  "
            ]
          },
          "execution_count": 48,
          "metadata": {},
          "output_type": "execute_result"
        }
      ]
    },
    {
      "cell_type": "code",
      "metadata": {
        "id": "KHXpH52EYD2M"
      },
      "source": [
        "# It is always crucial to clean raw data before using in ML, so we have a preprocessing step\n",
        "import pandas as pd\n",
        "def preprocess(df):\n",
        "  # clean up data we don't want to train on\n",
        "  # in other words, users will have to tell us the mother's age\n",
        "  # otherwise, our ML service won't work.\n",
        "  # these were chosen because they are such good predictors\n",
        "  # and because these are easy enough to collect\n",
        "  df = df[df.weight_pounds > 0]\n",
        "  df = df[df.mother_age > 0]\n",
        "  df = df[df.gestation_weeks > 0]\n",
        "  df = df[df.plurality > 0]\n",
        "  \n",
        "  # modify plurality field to be a string\n",
        "  twins_etc = dict(zip([1,2,3,4,5],\n",
        "                   ['Single(1)', 'Twins(2)', 'Triplets(3)', 'Quadruplets(4)', 'Quintuplets(5)']))\n",
        "  df['plurality'].replace(twins_etc, inplace=True)\n",
        "  \n",
        "  # now create extra rows to simulate lack of ultrasound\n",
        "  nous = df.copy(deep=True)\n",
        "  nous.loc[nous['plurality'] != 'Single(1)', 'plurality'] = 'Multiple(2+)'\n",
        "  nous['is_male'] = 'Unknown'\n",
        "  \n",
        "  return pd.concat([df, nous])"
      ],
      "execution_count": null,
      "outputs": []
    },
    {
      "cell_type": "code",
      "metadata": {
        "id": "1pBqlbieYD2N",
        "outputId": "c6c0a865-fac3-43d2-8198-8f8d0edc2a1c"
      },
      "source": [
        "traindf.head()# Let's see a small sample of the training data now after our preprocessing"
      ],
      "execution_count": null,
      "outputs": [
        {
          "data": {
            "text/html": [
              "<div>\n",
              "<style scoped>\n",
              "    .dataframe tbody tr th:only-of-type {\n",
              "        vertical-align: middle;\n",
              "    }\n",
              "\n",
              "    .dataframe tbody tr th {\n",
              "        vertical-align: top;\n",
              "    }\n",
              "\n",
              "    .dataframe thead th {\n",
              "        text-align: right;\n",
              "    }\n",
              "</style>\n",
              "<table border=\"1\" class=\"dataframe\">\n",
              "  <thead>\n",
              "    <tr style=\"text-align: right;\">\n",
              "      <th></th>\n",
              "      <th>weight_pounds</th>\n",
              "      <th>is_male</th>\n",
              "      <th>mother_age</th>\n",
              "      <th>plurality</th>\n",
              "      <th>gestation_weeks</th>\n",
              "      <th>hashmonth</th>\n",
              "    </tr>\n",
              "  </thead>\n",
              "  <tbody>\n",
              "    <tr>\n",
              "      <th>0</th>\n",
              "      <td>6.825512</td>\n",
              "      <td>False</td>\n",
              "      <td>32</td>\n",
              "      <td>1</td>\n",
              "      <td>39.0</td>\n",
              "      <td>3095933535584005890</td>\n",
              "    </tr>\n",
              "    <tr>\n",
              "      <th>1</th>\n",
              "      <td>6.393406</td>\n",
              "      <td>True</td>\n",
              "      <td>37</td>\n",
              "      <td>1</td>\n",
              "      <td>39.0</td>\n",
              "      <td>3095933535584005890</td>\n",
              "    </tr>\n",
              "    <tr>\n",
              "      <th>2</th>\n",
              "      <td>6.937947</td>\n",
              "      <td>False</td>\n",
              "      <td>21</td>\n",
              "      <td>1</td>\n",
              "      <td>38.0</td>\n",
              "      <td>3095933535584005890</td>\n",
              "    </tr>\n",
              "    <tr>\n",
              "      <th>3</th>\n",
              "      <td>7.561856</td>\n",
              "      <td>False</td>\n",
              "      <td>25</td>\n",
              "      <td>1</td>\n",
              "      <td>41.0</td>\n",
              "      <td>3095933535584005890</td>\n",
              "    </tr>\n",
              "    <tr>\n",
              "      <th>4</th>\n",
              "      <td>6.124442</td>\n",
              "      <td>True</td>\n",
              "      <td>20</td>\n",
              "      <td>1</td>\n",
              "      <td>40.0</td>\n",
              "      <td>3095933535584005890</td>\n",
              "    </tr>\n",
              "  </tbody>\n",
              "</table>\n",
              "</div>"
            ],
            "text/plain": [
              "   weight_pounds  is_male  mother_age  plurality  gestation_weeks  \\\n",
              "0       6.825512    False          32          1             39.0   \n",
              "1       6.393406     True          37          1             39.0   \n",
              "2       6.937947    False          21          1             38.0   \n",
              "3       7.561856    False          25          1             41.0   \n",
              "4       6.124442     True          20          1             40.0   \n",
              "\n",
              "             hashmonth  \n",
              "0  3095933535584005890  \n",
              "1  3095933535584005890  \n",
              "2  3095933535584005890  \n",
              "3  3095933535584005890  \n",
              "4  3095933535584005890  "
            ]
          },
          "execution_count": 50,
          "metadata": {},
          "output_type": "execute_result"
        }
      ]
    },
    {
      "cell_type": "code",
      "metadata": {
        "id": "-3rVNxGeYD2N",
        "outputId": "29dd46fa-1f9c-438f-92ba-c0e99ec369bd"
      },
      "source": [
        "traindf = preprocess(traindf)\n",
        "evaldf = preprocess(evaldf)\n",
        "traindf.head()"
      ],
      "execution_count": null,
      "outputs": [
        {
          "data": {
            "text/html": [
              "<div>\n",
              "<style scoped>\n",
              "    .dataframe tbody tr th:only-of-type {\n",
              "        vertical-align: middle;\n",
              "    }\n",
              "\n",
              "    .dataframe tbody tr th {\n",
              "        vertical-align: top;\n",
              "    }\n",
              "\n",
              "    .dataframe thead th {\n",
              "        text-align: right;\n",
              "    }\n",
              "</style>\n",
              "<table border=\"1\" class=\"dataframe\">\n",
              "  <thead>\n",
              "    <tr style=\"text-align: right;\">\n",
              "      <th></th>\n",
              "      <th>weight_pounds</th>\n",
              "      <th>is_male</th>\n",
              "      <th>mother_age</th>\n",
              "      <th>plurality</th>\n",
              "      <th>gestation_weeks</th>\n",
              "      <th>hashmonth</th>\n",
              "    </tr>\n",
              "  </thead>\n",
              "  <tbody>\n",
              "    <tr>\n",
              "      <th>0</th>\n",
              "      <td>6.825512</td>\n",
              "      <td>False</td>\n",
              "      <td>32</td>\n",
              "      <td>Single(1)</td>\n",
              "      <td>39.0</td>\n",
              "      <td>3095933535584005890</td>\n",
              "    </tr>\n",
              "    <tr>\n",
              "      <th>1</th>\n",
              "      <td>6.393406</td>\n",
              "      <td>True</td>\n",
              "      <td>37</td>\n",
              "      <td>Single(1)</td>\n",
              "      <td>39.0</td>\n",
              "      <td>3095933535584005890</td>\n",
              "    </tr>\n",
              "    <tr>\n",
              "      <th>2</th>\n",
              "      <td>6.937947</td>\n",
              "      <td>False</td>\n",
              "      <td>21</td>\n",
              "      <td>Single(1)</td>\n",
              "      <td>38.0</td>\n",
              "      <td>3095933535584005890</td>\n",
              "    </tr>\n",
              "    <tr>\n",
              "      <th>3</th>\n",
              "      <td>7.561856</td>\n",
              "      <td>False</td>\n",
              "      <td>25</td>\n",
              "      <td>Single(1)</td>\n",
              "      <td>41.0</td>\n",
              "      <td>3095933535584005890</td>\n",
              "    </tr>\n",
              "    <tr>\n",
              "      <th>4</th>\n",
              "      <td>6.124442</td>\n",
              "      <td>True</td>\n",
              "      <td>20</td>\n",
              "      <td>Single(1)</td>\n",
              "      <td>40.0</td>\n",
              "      <td>3095933535584005890</td>\n",
              "    </tr>\n",
              "  </tbody>\n",
              "</table>\n",
              "</div>"
            ],
            "text/plain": [
              "   weight_pounds is_male  mother_age  plurality  gestation_weeks  \\\n",
              "0       6.825512   False          32  Single(1)             39.0   \n",
              "1       6.393406    True          37  Single(1)             39.0   \n",
              "2       6.937947   False          21  Single(1)             38.0   \n",
              "3       7.561856   False          25  Single(1)             41.0   \n",
              "4       6.124442    True          20  Single(1)             40.0   \n",
              "\n",
              "             hashmonth  \n",
              "0  3095933535584005890  \n",
              "1  3095933535584005890  \n",
              "2  3095933535584005890  \n",
              "3  3095933535584005890  \n",
              "4  3095933535584005890  "
            ]
          },
          "execution_count": 51,
          "metadata": {},
          "output_type": "execute_result"
        }
      ]
    },
    {
      "cell_type": "code",
      "metadata": {
        "id": "U5hH3jCwYD2O",
        "outputId": "8143ddd9-9291-47d4-9c28-aa10ca0ee26b"
      },
      "source": [
        "traindf.tail()"
      ],
      "execution_count": null,
      "outputs": [
        {
          "data": {
            "text/html": [
              "<div>\n",
              "<style scoped>\n",
              "    .dataframe tbody tr th:only-of-type {\n",
              "        vertical-align: middle;\n",
              "    }\n",
              "\n",
              "    .dataframe tbody tr th {\n",
              "        vertical-align: top;\n",
              "    }\n",
              "\n",
              "    .dataframe thead th {\n",
              "        text-align: right;\n",
              "    }\n",
              "</style>\n",
              "<table border=\"1\" class=\"dataframe\">\n",
              "  <thead>\n",
              "    <tr style=\"text-align: right;\">\n",
              "      <th></th>\n",
              "      <th>weight_pounds</th>\n",
              "      <th>is_male</th>\n",
              "      <th>mother_age</th>\n",
              "      <th>plurality</th>\n",
              "      <th>gestation_weeks</th>\n",
              "      <th>hashmonth</th>\n",
              "    </tr>\n",
              "  </thead>\n",
              "  <tbody>\n",
              "    <tr>\n",
              "      <th>13392</th>\n",
              "      <td>6.137669</td>\n",
              "      <td>Unknown</td>\n",
              "      <td>30</td>\n",
              "      <td>Single(1)</td>\n",
              "      <td>42.0</td>\n",
              "      <td>-774501970389208065</td>\n",
              "    </tr>\n",
              "    <tr>\n",
              "      <th>13393</th>\n",
              "      <td>7.813183</td>\n",
              "      <td>Unknown</td>\n",
              "      <td>22</td>\n",
              "      <td>Single(1)</td>\n",
              "      <td>40.0</td>\n",
              "      <td>-774501970389208065</td>\n",
              "    </tr>\n",
              "    <tr>\n",
              "      <th>13394</th>\n",
              "      <td>6.999677</td>\n",
              "      <td>Unknown</td>\n",
              "      <td>22</td>\n",
              "      <td>Single(1)</td>\n",
              "      <td>39.0</td>\n",
              "      <td>-774501970389208065</td>\n",
              "    </tr>\n",
              "    <tr>\n",
              "      <th>13395</th>\n",
              "      <td>8.624484</td>\n",
              "      <td>Unknown</td>\n",
              "      <td>26</td>\n",
              "      <td>Single(1)</td>\n",
              "      <td>42.0</td>\n",
              "      <td>-774501970389208065</td>\n",
              "    </tr>\n",
              "    <tr>\n",
              "      <th>13396</th>\n",
              "      <td>6.124442</td>\n",
              "      <td>Unknown</td>\n",
              "      <td>24</td>\n",
              "      <td>Single(1)</td>\n",
              "      <td>40.0</td>\n",
              "      <td>-774501970389208065</td>\n",
              "    </tr>\n",
              "  </tbody>\n",
              "</table>\n",
              "</div>"
            ],
            "text/plain": [
              "       weight_pounds  is_male  mother_age  plurality  gestation_weeks  \\\n",
              "13392       6.137669  Unknown          30  Single(1)             42.0   \n",
              "13393       7.813183  Unknown          22  Single(1)             40.0   \n",
              "13394       6.999677  Unknown          22  Single(1)             39.0   \n",
              "13395       8.624484  Unknown          26  Single(1)             42.0   \n",
              "13396       6.124442  Unknown          24  Single(1)             40.0   \n",
              "\n",
              "                hashmonth  \n",
              "13392 -774501970389208065  \n",
              "13393 -774501970389208065  \n",
              "13394 -774501970389208065  \n",
              "13395 -774501970389208065  \n",
              "13396 -774501970389208065  "
            ]
          },
          "execution_count": 53,
          "metadata": {},
          "output_type": "execute_result"
        }
      ]
    },
    {
      "cell_type": "code",
      "metadata": {
        "id": "6pCKftHfYD2O",
        "outputId": "e1ebfcbe-9727-49b1-b783-cbed6f4e7f67"
      },
      "source": [
        "# Describe only does numeric columns, so you won't see plurality\n",
        "traindf.describe()"
      ],
      "execution_count": null,
      "outputs": [
        {
          "data": {
            "text/html": [
              "<div>\n",
              "<style scoped>\n",
              "    .dataframe tbody tr th:only-of-type {\n",
              "        vertical-align: middle;\n",
              "    }\n",
              "\n",
              "    .dataframe tbody tr th {\n",
              "        vertical-align: top;\n",
              "    }\n",
              "\n",
              "    .dataframe thead th {\n",
              "        text-align: right;\n",
              "    }\n",
              "</style>\n",
              "<table border=\"1\" class=\"dataframe\">\n",
              "  <thead>\n",
              "    <tr style=\"text-align: right;\">\n",
              "      <th></th>\n",
              "      <th>weight_pounds</th>\n",
              "      <th>mother_age</th>\n",
              "      <th>gestation_weeks</th>\n",
              "      <th>hashmonth</th>\n",
              "    </tr>\n",
              "  </thead>\n",
              "  <tbody>\n",
              "    <tr>\n",
              "      <th>count</th>\n",
              "      <td>26592.000000</td>\n",
              "      <td>26592.000000</td>\n",
              "      <td>26592.000000</td>\n",
              "      <td>2.659200e+04</td>\n",
              "    </tr>\n",
              "    <tr>\n",
              "      <th>mean</th>\n",
              "      <td>7.239440</td>\n",
              "      <td>27.298360</td>\n",
              "      <td>38.638688</td>\n",
              "      <td>3.524238e+17</td>\n",
              "    </tr>\n",
              "    <tr>\n",
              "      <th>std</th>\n",
              "      <td>1.300336</td>\n",
              "      <td>6.097631</td>\n",
              "      <td>2.555278</td>\n",
              "      <td>5.209030e+18</td>\n",
              "    </tr>\n",
              "    <tr>\n",
              "      <th>min</th>\n",
              "      <td>0.500449</td>\n",
              "      <td>13.000000</td>\n",
              "      <td>17.000000</td>\n",
              "      <td>-9.183606e+18</td>\n",
              "    </tr>\n",
              "    <tr>\n",
              "      <th>25%</th>\n",
              "      <td>6.563162</td>\n",
              "      <td>22.000000</td>\n",
              "      <td>38.000000</td>\n",
              "      <td>-3.340563e+18</td>\n",
              "    </tr>\n",
              "    <tr>\n",
              "      <th>50%</th>\n",
              "      <td>7.312733</td>\n",
              "      <td>27.000000</td>\n",
              "      <td>39.000000</td>\n",
              "      <td>-2.605984e+17</td>\n",
              "    </tr>\n",
              "    <tr>\n",
              "      <th>75%</th>\n",
              "      <td>8.047424</td>\n",
              "      <td>32.000000</td>\n",
              "      <td>40.000000</td>\n",
              "      <td>5.896568e+18</td>\n",
              "    </tr>\n",
              "    <tr>\n",
              "      <th>max</th>\n",
              "      <td>11.993147</td>\n",
              "      <td>50.000000</td>\n",
              "      <td>47.000000</td>\n",
              "      <td>8.599690e+18</td>\n",
              "    </tr>\n",
              "  </tbody>\n",
              "</table>\n",
              "</div>"
            ],
            "text/plain": [
              "       weight_pounds    mother_age  gestation_weeks     hashmonth\n",
              "count   26592.000000  26592.000000     26592.000000  2.659200e+04\n",
              "mean        7.239440     27.298360        38.638688  3.524238e+17\n",
              "std         1.300336      6.097631         2.555278  5.209030e+18\n",
              "min         0.500449     13.000000        17.000000 -9.183606e+18\n",
              "25%         6.563162     22.000000        38.000000 -3.340563e+18\n",
              "50%         7.312733     27.000000        39.000000 -2.605984e+17\n",
              "75%         8.047424     32.000000        40.000000  5.896568e+18\n",
              "max        11.993147     50.000000        47.000000  8.599690e+18"
            ]
          },
          "execution_count": 54,
          "metadata": {},
          "output_type": "execute_result"
        }
      ]
    },
    {
      "cell_type": "markdown",
      "metadata": {
        "id": "2-Ss418RYD2P"
      },
      "source": [
        "<h2> Write out </h2>\n",
        "<p>\n",
        "In the final versions, we want to read from files, not Pandas dataframes. So, write the Pandas dataframes out as CSV files. \n",
        "Using CSV files gives us the advantage of shuffling during read. This is important for distributed training because some workers might be slower than others, and shuffling the data helps prevent the same data from being assigned to the slow workers.\n"
      ]
    },
    {
      "cell_type": "code",
      "metadata": {
        "id": "M2gYYCjTYD2P"
      },
      "source": [
        "traindf.to_csv('train.csv', index=False, header=False)\n",
        "evaldf.to_csv('eval.csv', index=False, header=False)"
      ],
      "execution_count": null,
      "outputs": []
    },
    {
      "cell_type": "code",
      "metadata": {
        "id": "WuW9lmeTYD2Q",
        "outputId": "da886732-7ee7-4799-f1bf-9fd7181ff68d"
      },
      "source": [
        "%%bash\n",
        "wc -l *.csv\n",
        "head *.csv\n",
        "tail *.csv"
      ],
      "execution_count": null,
      "outputs": [
        {
          "name": "stdout",
          "output_type": "stream",
          "text": [
            "   6444 eval.csv\n",
            "  26606 train.csv\n",
            "  33050 total\n",
            "==> eval.csv <==\n",
            "7.25100379718,False,23,Single(1),39.0,7146494315947640619\n",
            "7.936641432,True,19,Single(1),39.0,6244544205302024223\n",
            "6.6248909731,True,27,Single(1),37.0,1891060869255459203\n",
            "7.31273323054,True,33,Single(1),38.0,2246942437170405963\n",
            "6.13326012884,True,42,Single(1),36.0,6365946696709051755\n",
            "7.43839671988,False,23,Single(1),40.0,4740473290291881219\n",
            "7.936641432,False,23,Single(1),40.0,7146494315947640619\n",
            "6.52788757782,True,39,Single(1),36.0,4740473290291881219\n",
            "6.75055446244,False,25,Single(1),34.0,8904940584331855459\n",
            "6.20821729792,False,33,Single(1),38.0,6365946696709051755\n",
            "\n",
            "==> train.csv <==\n",
            "7.87491199864,True,27,Single(1),40.0,774501970389208065\n",
            "9.31232594688,True,33,Single(1),38.0,774501970389208065\n",
            "9.37626000286,True,31,Single(1),40.0,774501970389208065\n",
            "7.3744626639,True,31,Single(1),38.0,774501970389208065\n",
            "8.5098433132,False,34,Single(1),38.0,774501970389208065\n",
            "7.3744626639,False,28,Single(1),39.0,774501970389208065\n",
            "7.1870697412,False,33,Single(1),38.0,774501970389208065\n",
            "8.75014717878,False,22,Single(1),41.0,774501970389208065\n",
            "7.35903030556,True,18,Single(1),42.0,774501970389208065\n",
            "6.686620406459999,False,30,Single(1),39.0,774501970389208065\n",
            "==> eval.csv <==\n",
            "7.31273323054,Unknown,24,Single(1),40.0,1639186255933990135\n",
            "6.3118345610599995,Unknown,40,Single(1),38.0,74931465496927487\n",
            "7.1870697412,Unknown,33,Single(1),37.0,74931465496927487\n",
            "8.24969784404,Unknown,33,Single(1),39.0,3182182455926341111\n",
            "8.0689187892,Unknown,24,Single(1),41.0,74931465496927487\n",
            "8.421658408399999,Unknown,32,Single(1),41.0,6910174677251748583\n",
            "6.80787465056,Unknown,25,Single(1),39.0,6141045177192779423\n",
            "6.8122838958,Unknown,39,Single(1),40.0,6141045177192779423\n",
            "7.16281889238,Unknown,22,Single(1),37.0,1639186255933990135\n",
            "7.5618555866,Unknown,30,Single(1),42.0,8904940584331855459\n",
            "\n",
            "==> train.csv <==\n",
            "8.000575487979999,Unknown,21,Single(1),39.0,6637442812569910270\n",
            "8.56275425608,Unknown,27,Single(1),40.0,6637442812569910270\n",
            "5.93704871566,Unknown,28,Single(1),36.0,6637442812569910270\n",
            "6.7902376696,Unknown,29,Single(1),40.0,6637442812569910270\n",
            "8.0358494499,Unknown,27,Single(1),41.0,6637442812569910270\n",
            "6.6248909731,Unknown,17,Single(1),39.0,6637442812569910270\n",
            "5.3131405142,Unknown,30,Single(1),40.0,6637442812569910270\n",
            "8.75014717878,Unknown,22,Single(1),40.0,6637442812569910270\n",
            "8.3665428429,Unknown,32,Single(1),38.0,6637442812569910270\n",
            "8.3114272774,Unknown,31,Single(1),41.0,6637442812569910270\n"
          ]
        }
      ]
    },
    {
      "cell_type": "markdown",
      "metadata": {
        "id": "A0_AXEwrYD2Q"
      },
      "source": [
        "Copyright 2020 Google Inc. Licensed under the Apache License, Version 2.0 (the \"License\"); you may not use this file except in compliance with the License. You may obtain a copy of the License at http://www.apache.org/licenses/LICENSE-2.0 Unless required by applicable law or agreed to in writing, software distributed under the License is distributed on an \"AS IS\" BASIS, WITHOUT WARRANTIES OR CONDITIONS OF ANY KIND, either express or implied. See the License for the specific language governing permissions and limitations under the License"
      ]
    }
  ]
}