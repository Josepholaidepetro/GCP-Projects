{
  "nbformat": 4,
  "nbformat_minor": 0,
  "metadata": {
    "environment": {
      "name": "tf2-2-3-gpu.2-3.m59",
      "type": "gcloud",
      "uri": "gcr.io/deeplearning-platform-release/tf2-2-3-gpu.2-3:m59"
    },
    "kernelspec": {
      "display_name": "Python 3",
      "language": "python",
      "name": "python3"
    },
    "language_info": {
      "codemirror_mode": {
        "name": "ipython",
        "version": 3
      },
      "file_extension": ".py",
      "mimetype": "text/x-python",
      "name": "python",
      "nbconvert_exporter": "python",
      "pygments_lexer": "ipython3",
      "version": "3.8.3"
    },
    "colab": {
      "name": " Create TensorFlow wide-and-deep model.ipynb",
      "provenance": []
    }
  },
  "cells": [
    {
      "cell_type": "markdown",
      "metadata": {
        "id": "zytTNRosZT7a"
      },
      "source": [
        "<h1> Create TensorFlow wide-and-deep model </h1>\n",
        "\n",
        "This notebook illustrates:\n",
        "<ol>\n",
        "<li> Creating a model using the high-level Estimator API \n",
        "</ol>"
      ]
    },
    {
      "cell_type": "code",
      "metadata": {
        "id": "NSSsa1d_ZT7j"
      },
      "source": [
        "!sudo chown -R jupyter:jupyter /home/jupyter/training-data-analyst"
      ],
      "execution_count": null,
      "outputs": []
    },
    {
      "cell_type": "code",
      "metadata": {
        "id": "sgU22-nmZT7l"
      },
      "source": [
        "# Ensure the right version of Tensorflow is installed.\n",
        "!pip freeze | grep tensorflow==2.1"
      ],
      "execution_count": null,
      "outputs": []
    },
    {
      "cell_type": "code",
      "metadata": {
        "id": "Xi8aCWC4ZT7l"
      },
      "source": [
        "# change these to try this notebook out\n",
        "BUCKET = 'qwiklabs-gcp-02-662ade991eea'\n",
        "PROJECT = 'qwiklabs-gcp-02-662ade991eea'\n",
        "REGION = 'us-central1'"
      ],
      "execution_count": null,
      "outputs": []
    },
    {
      "cell_type": "code",
      "metadata": {
        "id": "63BgSYFDZT7m"
      },
      "source": [
        "import os\n",
        "os.environ['BUCKET'] = BUCKET\n",
        "os.environ['PROJECT'] = PROJECT\n",
        "os.environ['REGION'] = REGION"
      ],
      "execution_count": null,
      "outputs": []
    },
    {
      "cell_type": "code",
      "metadata": {
        "collapsed": true,
        "jupyter": {
          "outputs_hidden": true
        },
        "id": "lR7nrMp5ZT7p"
      },
      "source": [
        "%%bash\n",
        "if ! gsutil ls | grep -q gs://${BUCKET}/; then\n",
        "  gsutil mb -l ${REGION} gs://${BUCKET}\n",
        "fi"
      ],
      "execution_count": null,
      "outputs": []
    },
    {
      "cell_type": "code",
      "metadata": {
        "jupyter": {
          "outputs_hidden": false
        },
        "id": "26PQH7uEZT7q",
        "outputId": "353b7eeb-2cd4-4f43-c89d-bf98304ca6c6"
      },
      "source": [
        "%%bash\n",
        "ls *.csv"
      ],
      "execution_count": null,
      "outputs": [
        {
          "name": "stdout",
          "output_type": "stream",
          "text": [
            "eval.csv\n",
            "train.csv\n"
          ]
        }
      ]
    },
    {
      "cell_type": "markdown",
      "metadata": {
        "id": "kNS5N9xoZT7t"
      },
      "source": [
        "<h2> Create TensorFlow model using TensorFlow's Estimator API </h2>\n",
        "<p>\n",
        "First, write an input_fn to read the data."
      ]
    },
    {
      "cell_type": "code",
      "metadata": {
        "jupyter": {
          "outputs_hidden": false
        },
        "id": "q-AP3s4LZT7v",
        "outputId": "dfc6e2cd-0187-4883-d113-3744fee9adec"
      },
      "source": [
        "import shutil\n",
        "import numpy as np\n",
        "import tensorflow as tf\n",
        "print(tf.__version__)"
      ],
      "execution_count": null,
      "outputs": [
        {
          "name": "stdout",
          "output_type": "stream",
          "text": [
            "2.3.1\n"
          ]
        }
      ]
    },
    {
      "cell_type": "code",
      "metadata": {
        "id": "T4dSmJmzZT7x"
      },
      "source": [
        "# Determine CSV, label, and key columns\n",
        "CSV_COLUMNS = 'weight_pounds,is_male,mother_age,plurality,gestation_weeks,key'.split(',')\n",
        "LABEL_COLUMN = 'weight_pounds'\n",
        "KEY_COLUMN = 'key'\n",
        "\n",
        "# Set default values for each CSV column\n",
        "DEFAULTS = [[0.0], ['null'], [0.0], ['null'], [0.0], ['nokey']]\n",
        "TRAIN_STEPS = 1000"
      ],
      "execution_count": null,
      "outputs": []
    },
    {
      "cell_type": "code",
      "metadata": {
        "id": "_L2FjQQkZT7z"
      },
      "source": [
        "# Create an input function reading a file using the Dataset API\n",
        "# Then provide the results to the Estimator API\n",
        "def read_dataset(filename, mode, batch_size = 512):\n",
        "  def _input_fn():\n",
        "    def decode_csv(value_column):\n",
        "      columns = tf.compat.v1.decode_csv(value_column, record_defaults=DEFAULTS)\n",
        "      features = dict(zip(CSV_COLUMNS, columns))\n",
        "      label = features.pop(LABEL_COLUMN)\n",
        "      return features, label\n",
        "    \n",
        "    # Create list of files that match pattern\n",
        "    file_list = tf.compat.v1.gfile.Glob(filename)\n",
        "\n",
        "    # Create dataset from file list\n",
        "    dataset = (tf.compat.v1.data.TextLineDataset(file_list)  # Read text file\n",
        "                 .map(decode_csv))  # Transform each elem by applying decode_csv fn\n",
        "      \n",
        "    if mode == tf.estimator.ModeKeys.TRAIN:\n",
        "        num_epochs = None # indefinitely\n",
        "        dataset = dataset.shuffle(buffer_size=10*batch_size)\n",
        "    else:\n",
        "        num_epochs = 1 # end-of-input after this\n",
        " \n",
        "    dataset = dataset.repeat(num_epochs).batch(batch_size)\n",
        "    return dataset\n",
        "  return _input_fn"
      ],
      "execution_count": null,
      "outputs": []
    },
    {
      "cell_type": "markdown",
      "metadata": {
        "id": "VTEFH8eaZT70"
      },
      "source": [
        "Next, define the feature columns"
      ]
    },
    {
      "cell_type": "code",
      "metadata": {
        "id": "3-hTojqyZT71"
      },
      "source": [
        "# Define feature columns\n",
        "def get_wide_deep():\n",
        "  # Define column types\n",
        "  is_male,mother_age,plurality,gestation_weeks = \\\n",
        "      [\\\n",
        "          tf.feature_column.categorical_column_with_vocabulary_list('is_male', \n",
        "                      ['True', 'False', 'Unknown']),\n",
        "          tf.feature_column.numeric_column('mother_age'),\n",
        "          tf.feature_column.categorical_column_with_vocabulary_list('plurality',\n",
        "                      ['Single(1)', 'Twins(2)', 'Triplets(3)',\n",
        "                       'Quadruplets(4)', 'Quintuplets(5)','Multiple(2+)']),\n",
        "          tf.feature_column.numeric_column('gestation_weeks')\n",
        "      ]\n",
        "\n",
        "  # Discretize\n",
        "  age_buckets = tf.feature_column.bucketized_column(mother_age, \n",
        "                      boundaries=np.arange(15,45,1).tolist())\n",
        "  gestation_buckets = tf.feature_column.bucketized_column(gestation_weeks, \n",
        "                      boundaries=np.arange(17,47,1).tolist())\n",
        "\n",
        "  # Sparse columns are wide, have a linear relationship with the output\n",
        "  wide = [is_male,\n",
        "          plurality,\n",
        "          age_buckets,\n",
        "          gestation_buckets]\n",
        "\n",
        "  # Feature cross all the wide columns and embed into a lower dimension\n",
        "  crossed = tf.feature_column.crossed_column(wide, hash_bucket_size=20000)\n",
        "  embed = tf.feature_column.embedding_column(crossed, 3)\n",
        "\n",
        "  # Continuous columns are deep, have a complex relationship with the output\n",
        "  deep = [mother_age,\n",
        "          gestation_weeks,\n",
        "          embed]\n",
        "  return wide, deep"
      ],
      "execution_count": null,
      "outputs": []
    },
    {
      "cell_type": "markdown",
      "metadata": {
        "id": "OlKbObuQZT73"
      },
      "source": [
        "To predict with the TensorFlow model, we also need a serving input function. We will want all the inputs from our user."
      ]
    },
    {
      "cell_type": "code",
      "metadata": {
        "id": "43phwV7cZT74"
      },
      "source": [
        "# Create serving input function to be able to serve predictions later using provided inputs\n",
        "def serving_input_fn():\n",
        "    feature_placeholders = {\n",
        "        'is_male': tf.compat.v1.placeholder(tf.string, [None]),\n",
        "        'mother_age': tf.compat.v1.placeholder(tf.float32, [None]),\n",
        "        'plurality': tf.compat.v1.placeholder(tf.string, [None]),\n",
        "        'gestation_weeks': tf.compat.v1.placeholder(tf.float32, [None])\n",
        "    }\n",
        "    features = {\n",
        "        key: tf.expand_dims(tensor, -1)\n",
        "        for key, tensor in feature_placeholders.items()\n",
        "    }\n",
        "    return tf.estimator.export.ServingInputReceiver(features, feature_placeholders)"
      ],
      "execution_count": null,
      "outputs": []
    },
    {
      "cell_type": "code",
      "metadata": {
        "id": "J01sdyLpZT75"
      },
      "source": [
        "# Create estimator to train and evaluate\n",
        "def train_and_evaluate(output_dir):\n",
        "  wide, deep = get_wide_deep()\n",
        "  EVAL_INTERVAL = 300\n",
        "  run_config = tf.estimator.RunConfig(save_checkpoints_secs = EVAL_INTERVAL,\n",
        "                                      keep_checkpoint_max = 3)\n",
        "  estimator = tf.estimator.DNNLinearCombinedRegressor(\n",
        "                       model_dir = output_dir,\n",
        "                       linear_feature_columns = wide,\n",
        "                       dnn_feature_columns = deep,\n",
        "                       dnn_hidden_units = [64, 32],\n",
        "                       config = run_config)\n",
        "  train_spec = tf.estimator.TrainSpec(\n",
        "                       input_fn = read_dataset('train.csv', mode = tf.estimator.ModeKeys.TRAIN),\n",
        "                       max_steps = TRAIN_STEPS)\n",
        "  exporter = tf.estimator.LatestExporter('exporter', serving_input_fn)\n",
        "  eval_spec = tf.estimator.EvalSpec(\n",
        "                       input_fn = read_dataset('eval.csv', mode = tf.estimator.ModeKeys.EVAL),\n",
        "                       steps = None,\n",
        "                       start_delay_secs = 60, # start evaluating after N seconds\n",
        "                       throttle_secs = EVAL_INTERVAL,  # evaluate every N seconds\n",
        "                       exporters = exporter)\n",
        "  tf.estimator.train_and_evaluate(estimator, train_spec, eval_spec)"
      ],
      "execution_count": null,
      "outputs": []
    },
    {
      "cell_type": "markdown",
      "metadata": {
        "id": "k6rbCPpoZT76"
      },
      "source": [
        "Finally, train!"
      ]
    },
    {
      "cell_type": "code",
      "metadata": {
        "jupyter": {
          "outputs_hidden": false
        },
        "id": "M6VLJWYMZT76",
        "outputId": "20356de7-3d65-4834-d62e-c86c0b2c3397"
      },
      "source": [
        "# Run the model\n",
        "shutil.rmtree('babyweight_trained', ignore_errors = True) # start fresh each time\n",
        "tf.compat.v1.summary.FileWriterCache.clear()\n",
        "train_and_evaluate('babyweight_trained')"
      ],
      "execution_count": null,
      "outputs": [
        {
          "name": "stdout",
          "output_type": "stream",
          "text": [
            "INFO:tensorflow:Using config: {'_model_dir': 'babyweight_trained', '_tf_random_seed': None, '_save_summary_steps': 100, '_save_checkpoints_steps': None, '_save_checkpoints_secs': 300, '_session_config': allow_soft_placement: true\n",
            "graph_options {\n",
            "  rewrite_options {\n",
            "    meta_optimizer_iterations: ONE\n",
            "  }\n",
            "}\n",
            ", '_keep_checkpoint_max': 3, '_keep_checkpoint_every_n_hours': 10000, '_log_step_count_steps': 100, '_train_distribute': None, '_device_fn': None, '_protocol': None, '_eval_distribute': None, '_experimental_distribute': None, '_experimental_max_worker_delay_secs': None, '_session_creation_timeout_secs': 7200, '_service': None, '_cluster_spec': ClusterSpec({}), '_task_type': 'worker', '_task_id': 0, '_global_id_in_cluster': 0, '_master': '', '_evaluation_master': '', '_is_chief': True, '_num_ps_replicas': 0, '_num_worker_replicas': 1}\n",
            "INFO:tensorflow:Not using Distribute Coordinator.\n",
            "INFO:tensorflow:Running training and evaluation locally (non-distributed).\n",
            "INFO:tensorflow:Start train and evaluate loop. The evaluate will happen after every checkpoint. Checkpoint frequency is determined based on RunConfig arguments: save_checkpoints_steps None or save_checkpoints_secs 300.\n",
            "WARNING:tensorflow:From /opt/conda/lib/python3.7/site-packages/tensorflow/python/training/training_util.py:236: Variable.initialized_value (from tensorflow.python.ops.variables) is deprecated and will be removed in a future version.\n",
            "Instructions for updating:\n",
            "Use Variable.read_value. Variables in 2.X are initialized automatically both in eager and graph (inside tf.defun) contexts.\n",
            "INFO:tensorflow:Calling model_fn.\n",
            "WARNING:tensorflow:From /opt/conda/lib/python3.7/site-packages/tensorflow_estimator/python/estimator/canned/linear.py:1481: Layer.add_variable (from tensorflow.python.keras.engine.base_layer_v1) is deprecated and will be removed in a future version.\n",
            "Instructions for updating:\n",
            "Please use `layer.add_weight` method instead.\n",
            "WARNING:tensorflow:From /opt/conda/lib/python3.7/site-packages/tensorflow/python/keras/optimizer_v2/adagrad.py:83: calling Constant.__init__ (from tensorflow.python.ops.init_ops) with dtype is deprecated and will be removed in a future version.\n",
            "Instructions for updating:\n",
            "Call initializer instance with the dtype argument instead of passing it to the constructor\n",
            "INFO:tensorflow:Done calling model_fn.\n",
            "INFO:tensorflow:Create CheckpointSaverHook.\n",
            "INFO:tensorflow:Graph was finalized.\n",
            "INFO:tensorflow:Running local_init_op.\n",
            "INFO:tensorflow:Done running local_init_op.\n",
            "INFO:tensorflow:Calling checkpoint listeners before saving checkpoint 0...\n",
            "INFO:tensorflow:Saving checkpoints for 0 into babyweight_trained/model.ckpt.\n",
            "INFO:tensorflow:Calling checkpoint listeners after saving checkpoint 0...\n",
            "INFO:tensorflow:loss = 81.76764, step = 0\n",
            "INFO:tensorflow:global_step/sec: 24.3945\n",
            "INFO:tensorflow:loss = 9.271491, step = 100 (4.104 sec)\n",
            "INFO:tensorflow:global_step/sec: 31.9794\n",
            "INFO:tensorflow:loss = 3.6275191, step = 200 (3.124 sec)\n",
            "INFO:tensorflow:global_step/sec: 35.6393\n",
            "INFO:tensorflow:loss = 2.106382, step = 300 (2.806 sec)\n",
            "INFO:tensorflow:global_step/sec: 35.0177\n",
            "INFO:tensorflow:loss = 1.6664822, step = 400 (2.856 sec)\n",
            "INFO:tensorflow:global_step/sec: 34.4692\n",
            "INFO:tensorflow:loss = 1.4102304, step = 500 (2.903 sec)\n",
            "INFO:tensorflow:global_step/sec: 32.522\n",
            "INFO:tensorflow:loss = 1.3848207, step = 600 (3.077 sec)\n",
            "INFO:tensorflow:global_step/sec: 31.2862\n",
            "INFO:tensorflow:loss = 1.2071259, step = 700 (3.197 sec)\n",
            "INFO:tensorflow:global_step/sec: 30.4104\n",
            "INFO:tensorflow:loss = 1.3413328, step = 800 (3.287 sec)\n",
            "INFO:tensorflow:global_step/sec: 36.0377\n",
            "INFO:tensorflow:loss = 1.1972106, step = 900 (2.775 sec)\n",
            "INFO:tensorflow:Calling checkpoint listeners before saving checkpoint 1000...\n",
            "INFO:tensorflow:Saving checkpoints for 1000 into babyweight_trained/model.ckpt.\n",
            "INFO:tensorflow:Calling checkpoint listeners after saving checkpoint 1000...\n",
            "INFO:tensorflow:Calling model_fn.\n",
            "INFO:tensorflow:Done calling model_fn.\n",
            "INFO:tensorflow:Starting evaluation at 2020-12-16T09:15:08Z\n",
            "INFO:tensorflow:Graph was finalized.\n",
            "INFO:tensorflow:Restoring parameters from babyweight_trained/model.ckpt-1000\n",
            "INFO:tensorflow:Running local_init_op.\n",
            "INFO:tensorflow:Done running local_init_op.\n",
            "INFO:tensorflow:Inference Time : 1.49448s\n",
            "INFO:tensorflow:Finished evaluation at 2020-12-16-09:15:10\n",
            "INFO:tensorflow:Saving dict for global step 1000: average_loss = 1.2451712, global_step = 1000, label/mean = 7.2368712, loss = 1.2461344, prediction/mean = 7.2079363\n",
            "INFO:tensorflow:Saving 'checkpoint_path' summary for global step 1000: babyweight_trained/model.ckpt-1000\n",
            "INFO:tensorflow:Calling model_fn.\n",
            "INFO:tensorflow:Done calling model_fn.\n",
            "WARNING:tensorflow:From /opt/conda/lib/python3.7/site-packages/tensorflow/python/saved_model/signature_def_utils_impl.py:201: build_tensor_info (from tensorflow.python.saved_model.utils_impl) is deprecated and will be removed in a future version.\n",
            "Instructions for updating:\n",
            "This function will only be available through the v1 compatibility library as tf.compat.v1.saved_model.utils.build_tensor_info or tf.compat.v1.saved_model.build_tensor_info.\n",
            "INFO:tensorflow:Signatures INCLUDED in export for Classify: None\n",
            "INFO:tensorflow:Signatures INCLUDED in export for Regress: None\n",
            "INFO:tensorflow:Signatures INCLUDED in export for Predict: ['predict']\n",
            "INFO:tensorflow:Signatures INCLUDED in export for Train: None\n",
            "INFO:tensorflow:Signatures INCLUDED in export for Eval: None\n",
            "INFO:tensorflow:Signatures EXCLUDED from export because they cannot be be served via TensorFlow Serving APIs:\n",
            "INFO:tensorflow:'serving_default' : Regression input must be a single string Tensor; got {'is_male': <tf.Tensor 'Placeholder:0' shape=(None,) dtype=string>, 'mother_age': <tf.Tensor 'Placeholder_1:0' shape=(None,) dtype=float32>, 'plurality': <tf.Tensor 'Placeholder_2:0' shape=(None,) dtype=string>, 'gestation_weeks': <tf.Tensor 'Placeholder_3:0' shape=(None,) dtype=float32>}\n",
            "INFO:tensorflow:'regression' : Regression input must be a single string Tensor; got {'is_male': <tf.Tensor 'Placeholder:0' shape=(None,) dtype=string>, 'mother_age': <tf.Tensor 'Placeholder_1:0' shape=(None,) dtype=float32>, 'plurality': <tf.Tensor 'Placeholder_2:0' shape=(None,) dtype=string>, 'gestation_weeks': <tf.Tensor 'Placeholder_3:0' shape=(None,) dtype=float32>}\n",
            "WARNING:tensorflow:Export includes no default signature!\n",
            "INFO:tensorflow:Restoring parameters from babyweight_trained/model.ckpt-1000\n",
            "INFO:tensorflow:Assets added to graph.\n",
            "INFO:tensorflow:No assets to write.\n",
            "INFO:tensorflow:SavedModel written to: babyweight_trained/export/exporter/temp-1608110110/saved_model.pb\n",
            "INFO:tensorflow:Loss for final step: 1.1568415.\n"
          ]
        }
      ]
    },
    {
      "cell_type": "markdown",
      "metadata": {
        "id": "7_VbbZ44ZT77"
      },
      "source": [
        "The exporter directory contains the final model."
      ]
    },
    {
      "cell_type": "markdown",
      "metadata": {
        "id": "oaWmgd2zZT78"
      },
      "source": [
        "Copyright 2020 Google Inc. Licensed under the Apache License, Version 2.0 (the \"License\"); you may not use this file except in compliance with the License. You may obtain a copy of the License at http://www.apache.org/licenses/LICENSE-2.0 Unless required by applicable law or agreed to in writing, software distributed under the License is distributed on an \"AS IS\" BASIS, WITHOUT WARRANTIES OR CONDITIONS OF ANY KIND, either express or implied. See the License for the specific language governing permissions and limitations under the License"
      ]
    }
  ]
}