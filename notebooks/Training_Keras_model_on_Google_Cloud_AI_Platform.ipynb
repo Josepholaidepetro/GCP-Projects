{
  "nbformat": 4,
  "nbformat_minor": 0,
  "metadata": {
    "environment": {
      "name": "tf2-2-3-gpu.2-3.m59",
      "type": "gcloud",
      "uri": "gcr.io/deeplearning-platform-release/tf2-2-3-gpu.2-3:m59"
    },
    "kernelspec": {
      "display_name": "Python 3",
      "language": "python",
      "name": "python3"
    },
    "language_info": {
      "codemirror_mode": {
        "name": "ipython",
        "version": 3
      },
      "file_extension": ".py",
      "mimetype": "text/x-python",
      "name": "python",
      "nbconvert_exporter": "python",
      "pygments_lexer": "ipython3",
      "version": "3.8.3"
    },
    "colab": {
      "name": "Training Keras model on Cloud AI Platform.ipynb",
      "provenance": []
    }
  },
  "cells": [
    {
      "cell_type": "markdown",
      "metadata": {
        "id": "jXYNLFx5b8Wt"
      },
      "source": [
        "<h1>Training Keras model on Cloud AI Platform</h1>\n",
        "\n",
        "This notebook illustrates distributed training on Cloud AI Platform. This uses Keras and requires TensorFlow 2.1"
      ]
    },
    {
      "cell_type": "code",
      "metadata": {
        "id": "nANSCgSSb8W3"
      },
      "source": [
        "# Ensure the right version of Tensorflow is installed.\n",
        "!pip freeze | grep tensorflow==2.1"
      ],
      "execution_count": null,
      "outputs": []
    },
    {
      "cell_type": "markdown",
      "metadata": {
        "id": "hJ7ByvoXzpVI"
      },
      "source": [
        "## Set up environment variables and load necessary libraries"
      ]
    },
    {
      "cell_type": "markdown",
      "metadata": {
        "id": "5MAVIBB9b8W6"
      },
      "source": [
        "Set environment variables so that we can use them throughout the entire notebook. We will be using our project name for our bucket, so you only need to change your project and region."
      ]
    },
    {
      "cell_type": "code",
      "metadata": {
        "id": "M-OTOwC3b8W7"
      },
      "source": [
        "# change these to try this notebook out\n",
        "BUCKET = 'qwiklabs-gcp-02-df71edd43e35'\n",
        "PROJECT = 'qwiklabs-gcp-02-df71edd43e35'\n",
        "REGION = 'us-central1'"
      ],
      "execution_count": null,
      "outputs": []
    },
    {
      "cell_type": "code",
      "metadata": {
        "id": "LHEsyxrub8W8"
      },
      "source": [
        "import os\n",
        "os.environ[\"PROJECT\"] = PROJECT\n",
        "os.environ[\"BUCKET\"] = BUCKET\n",
        "os.environ[\"REGION\"] = REGION\n",
        "os.environ[\"TFVERSION\"] = \"2.1\"\n",
        "os.environ[\"PYTHONVERSION\"] = \"3.7\""
      ],
      "execution_count": null,
      "outputs": []
    },
    {
      "cell_type": "markdown",
      "metadata": {
        "id": "mC9K9Dpx1ztf"
      },
      "source": [
        "Check that the Google BigQuery library is installed and if not, install it. "
      ]
    },
    {
      "cell_type": "code",
      "metadata": {
        "colab": {
          "base_uri": "https://localhost:8080/",
          "height": 609
        },
        "id": "RZUQtASG10xO",
        "outputId": "5612d6b0-9730-476a-a28f-8fdc14f4ecde"
      },
      "source": [
        "%%bash\n",
        "sudo pip freeze | grep google-cloud-bigquery==1.6.1 || \\\n",
        "sudo pip install google-cloud-bigquery==1.6.1"
      ],
      "execution_count": null,
      "outputs": [
        {
          "name": "stdout",
          "output_type": "stream",
          "text": [
            "Collecting google-cloud-bigquery==1.6.1\n",
            "  Downloading https://files.pythonhosted.org/packages/b7/1b/2b95f2fefddbbece38110712c225bfb5649206f4056445653bd5ca4dc86d/google_cloud_bigquery-1.6.1-py2.py3-none-any.whl (83kB)\n",
            "Collecting google-resumable-media>=0.2.1 (from google-cloud-bigquery==1.6.1)\n",
            "  Downloading https://files.pythonhosted.org/packages/22/52/4b086e0d15245b648e2b6d408fb2f2974a3a5a405de5d7fae25cd085a3fa/google_resumable_media-1.2.0-py2.py3-none-any.whl (75kB)\n",
            "Collecting google-api-core<2.0.0dev,>=1.0.0 (from google-cloud-bigquery==1.6.1)\n",
            "  Downloading https://files.pythonhosted.org/packages/4d/8c/23a0e59f6c0437b1cacec3bdb2acbbac46514a0077724925327076b33169/google_api_core-1.24.0-py2.py3-none-any.whl (91kB)\n",
            "Collecting google-cloud-core<0.30dev,>=0.28.0 (from google-cloud-bigquery==1.6.1)\n",
            "  Downloading https://files.pythonhosted.org/packages/0c/f2/3c225e7a69cb27d283b68bff867722bd066bc1858611180197f711815ea5/google_cloud_core-0.29.1-py2.py3-none-any.whl\n",
            "Collecting crcmod>=1.7; python_version == \"2.7\" (from google-resumable-media>=0.2.1->google-cloud-bigquery==1.6.1)\n",
            "  Downloading https://files.pythonhosted.org/packages/6b/b0/e595ce2a2527e169c3bcd6c33d2473c1918e0b7f6826a043ca1245dd4e5b/crcmod-1.7.tar.gz (89kB)\n",
            "Requirement already satisfied: six in /usr/lib/python2.7/dist-packages (from google-resumable-media>=0.2.1->google-cloud-bigquery==1.6.1) (1.12.0)\n",
            "Requirement already satisfied: setuptools>=34.0.0 in /usr/lib/python2.7/dist-packages (from google-api-core<2.0.0dev,>=1.0.0->google-cloud-bigquery==1.6.1) (40.8.0)\n",
            "Collecting protobuf>=3.12.0 (from google-api-core<2.0.0dev,>=1.0.0->google-cloud-bigquery==1.6.1)\n",
            "  Downloading https://files.pythonhosted.org/packages/41/c8/649a298f247305010c57ef2fffd8416686fbdb9e8d3754393ab4ee64f8cf/protobuf-3.14.0-cp27-cp27mu-manylinux1_x86_64.whl (1.0MB)\n",
            "Collecting futures>=3.2.0; python_version < \"3.2\" (from google-api-core<2.0.0dev,>=1.0.0->google-cloud-bigquery==1.6.1)\n",
            "  Downloading https://files.pythonhosted.org/packages/d8/a6/f46ae3f1da0cd4361c344888f59ec2f5785e69c872e175a748ef6071cdb5/futures-3.3.0-py2-none-any.whl\n",
            "Collecting pytz (from google-api-core<2.0.0dev,>=1.0.0->google-cloud-bigquery==1.6.1)\n",
            "  Downloading https://files.pythonhosted.org/packages/12/f8/ff09af6ff61a3efaad5f61ba5facdf17e7722c4393f7d8a66674d2dbd29f/pytz-2020.4-py2.py3-none-any.whl (509kB)\n",
            "Collecting google-auth<2.0dev,>=1.21.1 (from google-api-core<2.0.0dev,>=1.0.0->google-cloud-bigquery==1.6.1)\n",
            "  Downloading https://files.pythonhosted.org/packages/3e/fd/df1b3a59aca9537a187413651ad63b290d165559150a868a298fa837fe7b/google_auth-1.24.0-py2.py3-none-any.whl (114kB)\n",
            "Collecting requests<3.0.0dev,>=2.18.0 (from google-api-core<2.0.0dev,>=1.0.0->google-cloud-bigquery==1.6.1)\n",
            "  Downloading https://files.pythonhosted.org/packages/39/fc/f91eac5a39a65f75a7adb58eac7fa78871ea9872283fb9c44e6545998134/requests-2.25.0-py2.py3-none-any.whl (61kB)\n",
            "Collecting googleapis-common-protos<2.0dev,>=1.6.0 (from google-api-core<2.0.0dev,>=1.0.0->google-cloud-bigquery==1.6.1)\n",
            "  Downloading https://files.pythonhosted.org/packages/03/74/3956721ea1eb4bcf7502a311fdaa60b85bd751de4e57d1943afe9b334141/googleapis_common_protos-1.52.0-py2.py3-none-any.whl (100kB)\n",
            "Collecting pyasn1-modules>=0.2.1 (from google-auth<2.0dev,>=1.21.1->google-api-core<2.0.0dev,>=1.0.0->google-cloud-bigquery==1.6.1)\n",
            "  Downloading https://files.pythonhosted.org/packages/95/de/214830a981892a3e286c3794f41ae67a4495df1108c3da8a9f62159b9a9d/pyasn1_modules-0.2.8-py2.py3-none-any.whl (155kB)\n",
            "Collecting rsa<4.6; python_version < \"3.6\" (from google-auth<2.0dev,>=1.21.1->google-api-core<2.0.0dev,>=1.0.0->google-cloud-bigquery==1.6.1)\n",
            "  Downloading https://files.pythonhosted.org/packages/26/f8/8127fdda0294f044121d20aac7785feb810e159098447967a6103dedfb96/rsa-4.5-py2.py3-none-any.whl\n",
            "Collecting cachetools<5.0,>=2.0.0 (from google-auth<2.0dev,>=1.21.1->google-api-core<2.0.0dev,>=1.0.0->google-cloud-bigquery==1.6.1)\n",
            "  Downloading https://files.pythonhosted.org/packages/2f/a6/30b0a0bef12283e83e58c1d6e7b5aabc7acfc4110df81a4471655d33e704/cachetools-3.1.1-py2.py3-none-any.whl\n",
            "Collecting idna<3,>=2.5 (from requests<3.0.0dev,>=2.18.0->google-api-core<2.0.0dev,>=1.0.0->google-cloud-bigquery==1.6.1)\n",
            "  Downloading https://files.pythonhosted.org/packages/a2/38/928ddce2273eaa564f6f50de919327bf3a00f091b5baba8dfa9460f3a8a8/idna-2.10-py2.py3-none-any.whl (58kB)\n",
            "Collecting urllib3<1.27,>=1.21.1 (from requests<3.0.0dev,>=2.18.0->google-api-core<2.0.0dev,>=1.0.0->google-cloud-bigquery==1.6.1)\n",
            "  Downloading https://files.pythonhosted.org/packages/f5/71/45d36a8df68f3ebb098d6861b2c017f3d094538c0fb98fa61d4dc43e69b9/urllib3-1.26.2-py2.py3-none-any.whl (136kB)\n",
            "Collecting certifi>=2017.4.17 (from requests<3.0.0dev,>=2.18.0->google-api-core<2.0.0dev,>=1.0.0->google-cloud-bigquery==1.6.1)\n",
            "  Downloading https://files.pythonhosted.org/packages/5e/a0/5f06e1e1d463903cf0c0eebeb751791119ed7a4b3737fdc9a77f1cdfb51f/certifi-2020.12.5-py2.py3-none-any.whl (147kB)\n",
            "Collecting chardet<4,>=3.0.2 (from requests<3.0.0dev,>=2.18.0->google-api-core<2.0.0dev,>=1.0.0->google-cloud-bigquery==1.6.1)\n",
            "  Downloading https://files.pythonhosted.org/packages/bc/a9/01ffebfb562e4274b6487b4bb1ddec7ca55ec7510b22e4c51f14098443b8/chardet-3.0.4-py2.py3-none-any.whl (133kB)\n",
            "Collecting pyasn1<0.5.0,>=0.4.6 (from pyasn1-modules>=0.2.1->google-auth<2.0dev,>=1.21.1->google-api-core<2.0.0dev,>=1.0.0->google-cloud-bigquery==1.6.1)\n",
            "  Downloading https://files.pythonhosted.org/packages/62/1e/a94a8d635fa3ce4cfc7f506003548d0a2447ae76fd5ca53932970fe3053f/pyasn1-0.4.8-py2.py3-none-any.whl (77kB)\n",
            "Building wheels for collected packages: crcmod\n",
            "  Running setup.py bdist_wheel for crcmod: started\n",
            "  Running setup.py bdist_wheel for crcmod: finished with status 'done'\n",
            "  Stored in directory: /root/.cache/pip/wheels/50/24/4d/4580ca4a299f1ad6fd63443e6e584cb21e9a07988e4aa8daac\n",
            "Successfully built crcmod\n",
            "Installing collected packages: crcmod, google-resumable-media, protobuf, futures, pytz, pyasn1, pyasn1-modules, rsa, cachetools, google-auth, idna, urllib3, certifi, chardet, requests, googleapis-common-protos, google-api-core, google-cloud-core, google-cloud-bigquery\n",
            "Successfully installed cachetools-3.1.1 certifi-2020.12.5 chardet-3.0.4 crcmod-1.7 futures-3.3.0 google-api-core-1.24.0 google-auth-1.24.0 google-cloud-bigquery-1.6.1 google-cloud-core-0.29.1 google-resumable-media-1.2.0 googleapis-common-protos-1.52.0 idna-2.10 protobuf-3.14.0 pyasn1-0.4.8 pyasn1-modules-0.2.8 pytz-2020.4 requests-2.25.0 rsa-4.5 urllib3-1.26.2\n"
          ]
        },
        {
          "name": "stderr",
          "output_type": "stream",
          "text": [
            "google-api-core 1.24.0 has requirement six>=1.13.0, but you'll have six 1.12.0 which is incompatible.\n"
          ]
        }
      ]
    },
    {
      "cell_type": "code",
      "metadata": {
        "id": "xtDq3AMRb8W_"
      },
      "source": [
        "import os\n",
        "from google.cloud import bigquery"
      ],
      "execution_count": null,
      "outputs": []
    },
    {
      "cell_type": "code",
      "metadata": {
        "id": "s2pHzSm4b8XA",
        "outputId": "603c7e7a-c528-4fef-b131-f9ce02144d14"
      },
      "source": [
        "%%bash\n",
        "export PROJECT=$(gcloud config list project --format \"value(core.project)\")\n",
        "echo \"Your current GCP Project Name is: \"$PROJECT"
      ],
      "execution_count": null,
      "outputs": [
        {
          "name": "stdout",
          "output_type": "stream",
          "text": [
            "Your current GCP Project Name is: qwiklabs-gcp-02-df71edd43e35\n"
          ]
        }
      ]
    },
    {
      "cell_type": "markdown",
      "metadata": {
        "id": "L0-vOB4y2BJM"
      },
      "source": [
        "## The source dataset\n",
        "\n",
        "Our dataset is hosted in [BigQuery](https://cloud.google.com/bigquery/). The CDC's Natality data has details on US births from 1969 to 2008 and is a publically available dataset, meaning anyone with a GCP account has access. Click [here](https://console.cloud.google.com/bigquery?project=bigquery-public-data&p=publicdata&d=samples&t=natality&page=table) to access the dataset.\n",
        "\n",
        "The natality dataset is relatively large at almost 138 million rows and 31 columns, but simple to understand. `weight_pounds` is the target, the continuous value we’ll train a model to predict."
      ]
    },
    {
      "cell_type": "markdown",
      "metadata": {
        "id": "RuOrOCjcb8XD"
      },
      "source": [
        "## Create a BigQuery Dataset and Google Cloud Storage Bucket \n",
        "\n",
        "A BigQuery dataset is a container for tables, views, and models built with BigQuery ML. Let's create one called __babyweight__. We'll do the same for a GCS bucket for our project too."
      ]
    },
    {
      "cell_type": "code",
      "metadata": {
        "id": "HrvGZgIEb8XF",
        "outputId": "9f3c205d-1b6b-4b3d-8e5e-53f9521ef4c1"
      },
      "source": [
        "%%bash\n",
        "\n",
        "# Create a BigQuery dataset for babyweight if it doesn't exist\n",
        "datasetexists=$(bq ls -d | grep -w babyweight)\n",
        "\n",
        "if [ -n \"$datasetexists\" ]; then\n",
        "    echo -e \"BigQuery dataset already exists, let's not recreate it.\"\n",
        "\n",
        "else\n",
        "    echo \"Creating BigQuery dataset titled: babyweight\"\n",
        "    \n",
        "    bq --location=US mk --dataset \\\n",
        "        --description \"Babyweight\" \\\n",
        "        $PROJECT:babyweight\n",
        "    echo \"Here are your current datasets:\"\n",
        "    bq ls\n",
        "fi\n",
        "    \n",
        "## Create GCS bucket if it doesn't exist already...\n",
        "exists=$(gsutil ls -d | grep -w gs://${BUCKET}/)\n",
        "\n",
        "if [ -n \"$exists\" ]; then\n",
        "    echo -e \"Bucket exists, let's not recreate it.\"\n",
        "    \n",
        "else\n",
        "    echo \"Creating a new GCS bucket.\"\n",
        "    gsutil mb -l ${REGION} gs://${BUCKET}\n",
        "    echo \"Here are your current buckets:\"\n",
        "    gsutil ls\n",
        "fi"
      ],
      "execution_count": null,
      "outputs": [
        {
          "name": "stdout",
          "output_type": "stream",
          "text": [
            "BigQuery dataset already exists, let's not recreate it.\n",
            "Bucket exists, let's not recreate it.\n"
          ]
        }
      ]
    },
    {
      "cell_type": "markdown",
      "metadata": {
        "id": "b2TuS1s9vREL"
      },
      "source": [
        "## Create the training and evaluation data tables\n",
        "\n",
        "Since there is already a publicly available dataset, we can simply create the training and evaluation data tables using this raw input data. First we are going to create a subset of the data limiting our columns to `weight_pounds`, `is_male`, `mother_age`, `plurality`, and `gestation_weeks` as well as some simple filtering and a column to hash on for repeatable splitting.\n",
        "\n",
        "* Note:  The dataset in the create table code below is the one created previously, e.g. \"babyweight\"."
      ]
    },
    {
      "cell_type": "markdown",
      "metadata": {
        "id": "oIFTTjxfb8XI"
      },
      "source": [
        "### Preprocess and filter dataset\n",
        "\n",
        "We have some preprocessing and filtering we would like to do to get our data in the right format for training.\n",
        "\n",
        "Preprocessing:\n",
        "* Cast `is_male` from `BOOL` to `STRING`\n",
        "* Cast `plurality` from `INTEGER` to `STRING` where `[1, 2, 3, 4, 5]` becomes `[\"Single(1)\", \"Twins(2)\", \"Triplets(3)\", \"Quadruplets(4)\", \"Quintuplets(5)\"]`\n",
        "* Add `hashcolumn` hashing on `year` and `month`\n",
        "\n",
        "Filtering:\n",
        "* Only want data for years later than `2000`\n",
        "* Only want baby weights greater than `0`\n",
        "* Only want mothers whose age is greater than `0`\n",
        "* Only want plurality to be greater than `0`\n",
        "* Only want the number of weeks of gestation to be greater than `0`"
      ]
    },
    {
      "cell_type": "code",
      "metadata": {
        "id": "KvP9whnRb8XJ",
        "outputId": "cf415632-fec6-41b9-8be3-7ad2d884a71a"
      },
      "source": [
        "%%bigquery\n",
        "CREATE OR REPLACE TABLE\n",
        "    babyweight.babyweight_data AS\n",
        "SELECT\n",
        "    weight_pounds,\n",
        "    CAST(is_male AS STRING) AS is_male,\n",
        "    mother_age,\n",
        "    CASE\n",
        "        WHEN plurality = 1 THEN \"Single(1)\"\n",
        "        WHEN plurality = 2 THEN \"Twins(2)\"\n",
        "        WHEN plurality = 3 THEN \"Triplets(3)\"\n",
        "        WHEN plurality = 4 THEN \"Quadruplets(4)\"\n",
        "        WHEN plurality = 5 THEN \"Quintuplets(5)\"\n",
        "    END AS plurality,\n",
        "    gestation_weeks,\n",
        "    FARM_FINGERPRINT(\n",
        "        CONCAT(\n",
        "            CAST(year AS STRING),\n",
        "            CAST(month AS STRING)\n",
        "        )\n",
        "    ) AS hashmonth\n",
        "FROM\n",
        "    publicdata.samples.natality\n",
        "WHERE\n",
        "    year > 2000\n",
        "    AND weight_pounds > 0\n",
        "    AND mother_age > 0\n",
        "    AND plurality > 0\n",
        "    AND gestation_weeks > 0"
      ],
      "execution_count": null,
      "outputs": [
        {
          "data": {
            "text/html": [
              "<div>\n",
              "<style scoped>\n",
              "    .dataframe tbody tr th:only-of-type {\n",
              "        vertical-align: middle;\n",
              "    }\n",
              "\n",
              "    .dataframe tbody tr th {\n",
              "        vertical-align: top;\n",
              "    }\n",
              "\n",
              "    .dataframe thead th {\n",
              "        text-align: right;\n",
              "    }\n",
              "</style>\n",
              "<table border=\"1\" class=\"dataframe\">\n",
              "  <thead>\n",
              "    <tr style=\"text-align: right;\">\n",
              "      <th></th>\n",
              "    </tr>\n",
              "  </thead>\n",
              "  <tbody>\n",
              "  </tbody>\n",
              "</table>\n",
              "</div>"
            ],
            "text/plain": [
              "Empty DataFrame\n",
              "Columns: []\n",
              "Index: []"
            ]
          },
          "execution_count": 30,
          "metadata": {},
          "output_type": "execute_result"
        }
      ]
    },
    {
      "cell_type": "markdown",
      "metadata": {
        "id": "bFEtRt4-b8XK"
      },
      "source": [
        "### Augment dataset to simulate missing data\n",
        "\n",
        "Now we want to augment our dataset with our simulated babyweight data by setting all gender information to `Unknown` and setting plurality of all non-single births to `Multiple(2+)`."
      ]
    },
    {
      "cell_type": "code",
      "metadata": {
        "id": "qzoClY46b8XL",
        "outputId": "06f2a64d-b53f-4cdb-b1b1-9d8fb6991f2e"
      },
      "source": [
        "%%bigquery\n",
        "CREATE OR REPLACE TABLE\n",
        "    babyweight.babyweight_augmented_data AS\n",
        "SELECT\n",
        "    weight_pounds,\n",
        "    is_male,\n",
        "    mother_age,\n",
        "    plurality,\n",
        "    gestation_weeks,\n",
        "    hashmonth\n",
        "FROM\n",
        "    babyweight.babyweight_data\n",
        "UNION ALL\n",
        "SELECT\n",
        "    weight_pounds,\n",
        "    \"Unknown\" AS is_male,\n",
        "    mother_age,\n",
        "    CASE\n",
        "        WHEN plurality = \"Single(1)\" THEN plurality\n",
        "        ELSE \"Multiple(2+)\"\n",
        "    END AS plurality,\n",
        "    gestation_weeks,\n",
        "    hashmonth\n",
        "FROM\n",
        "    babyweight.babyweight_data"
      ],
      "execution_count": null,
      "outputs": [
        {
          "data": {
            "text/html": [
              "<div>\n",
              "<style scoped>\n",
              "    .dataframe tbody tr th:only-of-type {\n",
              "        vertical-align: middle;\n",
              "    }\n",
              "\n",
              "    .dataframe tbody tr th {\n",
              "        vertical-align: top;\n",
              "    }\n",
              "\n",
              "    .dataframe thead th {\n",
              "        text-align: right;\n",
              "    }\n",
              "</style>\n",
              "<table border=\"1\" class=\"dataframe\">\n",
              "  <thead>\n",
              "    <tr style=\"text-align: right;\">\n",
              "      <th></th>\n",
              "    </tr>\n",
              "  </thead>\n",
              "  <tbody>\n",
              "  </tbody>\n",
              "</table>\n",
              "</div>"
            ],
            "text/plain": [
              "Empty DataFrame\n",
              "Columns: []\n",
              "Index: []"
            ]
          },
          "execution_count": 31,
          "metadata": {},
          "output_type": "execute_result"
        }
      ]
    },
    {
      "cell_type": "markdown",
      "metadata": {
        "id": "b_shNJcFb8XM"
      },
      "source": [
        "### Split augmented dataset into train and eval sets\n",
        "\n",
        "Using `hashmonth`, apply a modulo to get approximately a 75/25 train/eval split."
      ]
    },
    {
      "cell_type": "markdown",
      "metadata": {
        "id": "JRXPnLOyb8XN"
      },
      "source": [
        "#### Split augmented dataset into train dataset"
      ]
    },
    {
      "cell_type": "code",
      "metadata": {
        "id": "CMNRractvREL",
        "outputId": "81a5e973-7251-4b5d-ba4e-3bce73aee791"
      },
      "source": [
        "%%bigquery\n",
        "CREATE OR REPLACE TABLE\n",
        "    babyweight.babyweight_data_train AS\n",
        "SELECT\n",
        "    weight_pounds,\n",
        "    is_male,\n",
        "    mother_age,\n",
        "    plurality,\n",
        "    gestation_weeks\n",
        "FROM\n",
        "    babyweight.babyweight_augmented_data\n",
        "WHERE\n",
        "    ABS(MOD(hashmonth, 4)) < 3"
      ],
      "execution_count": null,
      "outputs": [
        {
          "data": {
            "text/html": [
              "<div>\n",
              "<style scoped>\n",
              "    .dataframe tbody tr th:only-of-type {\n",
              "        vertical-align: middle;\n",
              "    }\n",
              "\n",
              "    .dataframe tbody tr th {\n",
              "        vertical-align: top;\n",
              "    }\n",
              "\n",
              "    .dataframe thead th {\n",
              "        text-align: right;\n",
              "    }\n",
              "</style>\n",
              "<table border=\"1\" class=\"dataframe\">\n",
              "  <thead>\n",
              "    <tr style=\"text-align: right;\">\n",
              "      <th></th>\n",
              "    </tr>\n",
              "  </thead>\n",
              "  <tbody>\n",
              "  </tbody>\n",
              "</table>\n",
              "</div>"
            ],
            "text/plain": [
              "Empty DataFrame\n",
              "Columns: []\n",
              "Index: []"
            ]
          },
          "execution_count": 32,
          "metadata": {},
          "output_type": "execute_result"
        }
      ]
    },
    {
      "cell_type": "markdown",
      "metadata": {
        "id": "ICnKCnveb8XO"
      },
      "source": [
        "#### Split augmented dataset into eval dataset"
      ]
    },
    {
      "cell_type": "code",
      "metadata": {
        "id": "9-8PXBRXb8XP",
        "outputId": "40c7c1fd-ebcf-4d9e-e983-a7da2d012ee9"
      },
      "source": [
        "%%bigquery\n",
        "CREATE OR REPLACE TABLE\n",
        "    babyweight.babyweight_data_eval AS\n",
        "SELECT\n",
        "    weight_pounds,\n",
        "    is_male,\n",
        "    mother_age,\n",
        "    plurality,\n",
        "    gestation_weeks\n",
        "FROM\n",
        "    babyweight.babyweight_augmented_data\n",
        "WHERE\n",
        "    ABS(MOD(hashmonth, 4)) = 3"
      ],
      "execution_count": null,
      "outputs": [
        {
          "data": {
            "text/html": [
              "<div>\n",
              "<style scoped>\n",
              "    .dataframe tbody tr th:only-of-type {\n",
              "        vertical-align: middle;\n",
              "    }\n",
              "\n",
              "    .dataframe tbody tr th {\n",
              "        vertical-align: top;\n",
              "    }\n",
              "\n",
              "    .dataframe thead th {\n",
              "        text-align: right;\n",
              "    }\n",
              "</style>\n",
              "<table border=\"1\" class=\"dataframe\">\n",
              "  <thead>\n",
              "    <tr style=\"text-align: right;\">\n",
              "      <th></th>\n",
              "    </tr>\n",
              "  </thead>\n",
              "  <tbody>\n",
              "  </tbody>\n",
              "</table>\n",
              "</div>"
            ],
            "text/plain": [
              "Empty DataFrame\n",
              "Columns: []\n",
              "Index: []"
            ]
          },
          "execution_count": 33,
          "metadata": {},
          "output_type": "execute_result"
        }
      ]
    },
    {
      "cell_type": "markdown",
      "metadata": {
        "id": "clnaaqQsXkwC"
      },
      "source": [
        "## Verify table creation\n",
        "\n",
        "Verify that you created the dataset and training data table."
      ]
    },
    {
      "cell_type": "code",
      "metadata": {
        "id": "03qwWZ0pb8XQ",
        "outputId": "90fd9c12-d49e-4757-9b34-d6a4bb6c6613"
      },
      "source": [
        "%%bigquery\n",
        "-- LIMIT 0 is a free query; this allows us to check that the table exists.\n",
        "SELECT * FROM babyweight.babyweight_data_train\n",
        "LIMIT 0"
      ],
      "execution_count": null,
      "outputs": [
        {
          "data": {
            "text/html": [
              "<div>\n",
              "<style scoped>\n",
              "    .dataframe tbody tr th:only-of-type {\n",
              "        vertical-align: middle;\n",
              "    }\n",
              "\n",
              "    .dataframe tbody tr th {\n",
              "        vertical-align: top;\n",
              "    }\n",
              "\n",
              "    .dataframe thead th {\n",
              "        text-align: right;\n",
              "    }\n",
              "</style>\n",
              "<table border=\"1\" class=\"dataframe\">\n",
              "  <thead>\n",
              "    <tr style=\"text-align: right;\">\n",
              "      <th></th>\n",
              "      <th>weight_pounds</th>\n",
              "      <th>is_male</th>\n",
              "      <th>mother_age</th>\n",
              "      <th>plurality</th>\n",
              "      <th>gestation_weeks</th>\n",
              "    </tr>\n",
              "  </thead>\n",
              "  <tbody>\n",
              "  </tbody>\n",
              "</table>\n",
              "</div>"
            ],
            "text/plain": [
              "Empty DataFrame\n",
              "Columns: [weight_pounds, is_male, mother_age, plurality, gestation_weeks]\n",
              "Index: []"
            ]
          },
          "execution_count": 34,
          "metadata": {},
          "output_type": "execute_result"
        }
      ]
    },
    {
      "cell_type": "code",
      "metadata": {
        "id": "pPk-v8KWb8XR",
        "outputId": "2cca9cce-36d4-4841-d62f-9ef873f13b8c"
      },
      "source": [
        "%%bigquery\n",
        "-- LIMIT 0 is a free query; this allows us to check that the table exists.\n",
        "SELECT * FROM babyweight.babyweight_data_eval\n",
        "LIMIT 0"
      ],
      "execution_count": null,
      "outputs": [
        {
          "data": {
            "text/html": [
              "<div>\n",
              "<style scoped>\n",
              "    .dataframe tbody tr th:only-of-type {\n",
              "        vertical-align: middle;\n",
              "    }\n",
              "\n",
              "    .dataframe tbody tr th {\n",
              "        vertical-align: top;\n",
              "    }\n",
              "\n",
              "    .dataframe thead th {\n",
              "        text-align: right;\n",
              "    }\n",
              "</style>\n",
              "<table border=\"1\" class=\"dataframe\">\n",
              "  <thead>\n",
              "    <tr style=\"text-align: right;\">\n",
              "      <th></th>\n",
              "      <th>weight_pounds</th>\n",
              "      <th>is_male</th>\n",
              "      <th>mother_age</th>\n",
              "      <th>plurality</th>\n",
              "      <th>gestation_weeks</th>\n",
              "    </tr>\n",
              "  </thead>\n",
              "  <tbody>\n",
              "  </tbody>\n",
              "</table>\n",
              "</div>"
            ],
            "text/plain": [
              "Empty DataFrame\n",
              "Columns: [weight_pounds, is_male, mother_age, plurality, gestation_weeks]\n",
              "Index: []"
            ]
          },
          "execution_count": 35,
          "metadata": {},
          "output_type": "execute_result"
        }
      ]
    },
    {
      "cell_type": "markdown",
      "metadata": {
        "id": "ff1NPtGCb8XT"
      },
      "source": [
        "## Export from BigQuery to CSVs in GCS\n",
        "\n",
        "Use BigQuery Python API to export our train and eval tables to Google Cloud Storage in the CSV format to be used later for TensorFlow/Keras training. We'll want to use the dataset we've been using above as well as repeat the process for both training and evaluation data."
      ]
    },
    {
      "cell_type": "code",
      "metadata": {
        "id": "vr30K_Txb8XU",
        "outputId": "791977b8-f06b-4bee-e63f-ab6ee4cbae18"
      },
      "source": [
        "# Construct a BigQuery client object.\n",
        "client = bigquery.Client()\n",
        "\n",
        "dataset_name = \"babyweight\"\n",
        "\n",
        "# Create dataset reference object\n",
        "dataset_ref = client.dataset(\n",
        "    dataset_id=dataset_name, project=client.project)\n",
        "\n",
        "# Export both train and eval tables\n",
        "for step in [\"train\", \"eval\"]:\n",
        "    destination_uri = os.path.join(\n",
        "        \"gs://\", BUCKET, dataset_name, \"data\", \"{}*.csv\".format(step))\n",
        "    table_name = \"babyweight_data_{}\".format(step)\n",
        "    table_ref = dataset_ref.table(table_name)\n",
        "    extract_job = client.extract_table(\n",
        "        table_ref,\n",
        "        destination_uri,\n",
        "        # Location must match that of the source table.\n",
        "        location=\"US\",\n",
        "    )  # API request\n",
        "    extract_job.result()  # Waits for job to complete.\n",
        "\n",
        "    print(\"Exported {}:{}.{} to {}\".format(\n",
        "        client.project, dataset_name, table_name, destination_uri))"
      ],
      "execution_count": null,
      "outputs": [
        {
          "name": "stdout",
          "output_type": "stream",
          "text": [
            "Exported qwiklabs-gcp-02-df71edd43e35:babyweight.babyweight_data_train to gs://qwiklabs-gcp-02-df71edd43e35/babyweight/data/train*.csv\n",
            "Exported qwiklabs-gcp-02-df71edd43e35:babyweight.babyweight_data_eval to gs://qwiklabs-gcp-02-df71edd43e35/babyweight/data/eval*.csv\n"
          ]
        }
      ]
    },
    {
      "cell_type": "markdown",
      "metadata": {
        "id": "czkLidQvb8XU"
      },
      "source": [
        "## Verify CSV creation\n",
        "\n",
        "Verify that we correctly created the CSV files in our bucket."
      ]
    },
    {
      "cell_type": "code",
      "metadata": {
        "id": "kWclbkmub8XV",
        "outputId": "cb27c285-0b0b-4e02-a8d8-08c0703d620c"
      },
      "source": [
        "%%bash\n",
        "gsutil ls gs://${BUCKET}/babyweight/data/*.csv"
      ],
      "execution_count": null,
      "outputs": [
        {
          "name": "stdout",
          "output_type": "stream",
          "text": [
            "gs://qwiklabs-gcp-02-df71edd43e35/babyweight/data/eval000000000000.csv\n",
            "gs://qwiklabs-gcp-02-df71edd43e35/babyweight/data/eval000000000001.csv\n",
            "gs://qwiklabs-gcp-02-df71edd43e35/babyweight/data/train000000000000.csv\n",
            "gs://qwiklabs-gcp-02-df71edd43e35/babyweight/data/train000000000001.csv\n",
            "gs://qwiklabs-gcp-02-df71edd43e35/babyweight/data/train000000000002.csv\n",
            "gs://qwiklabs-gcp-02-df71edd43e35/babyweight/data/train000000000003.csv\n",
            "gs://qwiklabs-gcp-02-df71edd43e35/babyweight/data/train000000000004.csv\n",
            "gs://qwiklabs-gcp-02-df71edd43e35/babyweight/data/train000000000005.csv\n"
          ]
        }
      ]
    },
    {
      "cell_type": "markdown",
      "metadata": {
        "id": "uwp3LvRYb8XV"
      },
      "source": [
        "## Check data exists\n",
        "\n",
        "Verify that you previously created CSV files we'll be using for training and evaluation."
      ]
    },
    {
      "cell_type": "code",
      "metadata": {
        "id": "EGLRe4vPb8XW",
        "outputId": "cd332075-6a85-468a-ca71-1cf6450fe08e"
      },
      "source": [
        "%%bash\n",
        "gsutil ls gs://${BUCKET}/babyweight/data/*000000000000.csv"
      ],
      "execution_count": null,
      "outputs": [
        {
          "name": "stdout",
          "output_type": "stream",
          "text": [
            "gs://qwiklabs-gcp-02-df71edd43e35/babyweight/data/eval000000000000.csv\n",
            "gs://qwiklabs-gcp-02-df71edd43e35/babyweight/data/train000000000000.csv\n"
          ]
        }
      ]
    },
    {
      "cell_type": "code",
      "metadata": {
        "id": "ttslvBsMb8XW"
      },
      "source": [
        "%%bash\n",
        "mkdir -p babyweight/trainer\n",
        "touch babyweight/trainer/__init__.py"
      ],
      "execution_count": null,
      "outputs": []
    },
    {
      "cell_type": "markdown",
      "metadata": {
        "id": "gAbW71Vkb8XX"
      },
      "source": [
        "We then use the `%%writefile` magic to write the contents of the cell below to a file called `task.py` in the `babyweight/trainer` folder."
      ]
    },
    {
      "cell_type": "markdown",
      "metadata": {
        "id": "wAbgUoTub8XY"
      },
      "source": [
        "### Create trainer module's task.py to hold hyperparameter argparsing code.\n",
        "\n",
        "The cell below writes the file `babyweight/trainer/task.py` which sets up our training job. Here is where we determine which parameters of our model to pass as flags during training using the `parser` module. Look at how `batch_size` is passed to the model in the code below. Use this as an example to parse arguements for the following variables\n",
        "- `nnsize` which represents the hidden layer sizes to use for DNN feature columns\n",
        "- `nembeds` which represents the embedding size of a cross of n key real-valued parameters\n",
        "- `train_examples` which represents the number of examples (in thousands) to run the training job\n",
        "- `eval_steps` which represents the positive number of steps for which to evaluate model\n",
        "\n",
        "Be sure to include a default value for the parsed arguments above and specfy the `type` if necessary."
      ]
    },
    {
      "cell_type": "code",
      "metadata": {
        "id": "HfVvs0uPb8XY",
        "outputId": "baaa57f4-b8b0-4e28-c8dc-762e33b1fb8c"
      },
      "source": [
        "%%writefile babyweight/trainer/task.py\n",
        "import argparse\n",
        "import json\n",
        "import os\n",
        "\n",
        "from trainer import model\n",
        "\n",
        "import tensorflow as tf\n",
        "\n",
        "if __name__ == \"__main__\":\n",
        "    parser = argparse.ArgumentParser()\n",
        "    parser.add_argument(\n",
        "        \"--job-dir\",\n",
        "        help=\"this model ignores this field, but it is required by gcloud\",\n",
        "        default=\"junk\"\n",
        "    )\n",
        "    parser.add_argument(\n",
        "        \"--train_data_path\",\n",
        "        help=\"GCS location of training data\",\n",
        "        required=True\n",
        "    )\n",
        "    parser.add_argument(\n",
        "        \"--eval_data_path\",\n",
        "        help=\"GCS location of evaluation data\",\n",
        "        required=True\n",
        "    )\n",
        "    parser.add_argument(\n",
        "        \"--output_dir\",\n",
        "        help=\"GCS location to write checkpoints and export models\",\n",
        "        required=True\n",
        "    )\n",
        "    parser.add_argument(\n",
        "        \"--batch_size\",\n",
        "        help=\"Number of examples to compute gradient over.\",\n",
        "        type=int,\n",
        "        default=512\n",
        "    )\n",
        "    parser.add_argument(\n",
        "        \"--nnsize\",\n",
        "        help=\"Hidden layer sizes for DNN -- provide space-separated layers\",\n",
        "        nargs=\"+\",\n",
        "        type=int,\n",
        "        default=[128, 32, 4]\n",
        "    )\n",
        "    parser.add_argument(\n",
        "        \"--nembeds\",\n",
        "        help=\"Embedding size of a cross of n key real-valued parameters\",\n",
        "        type=int,\n",
        "        default=3\n",
        "    )\n",
        "    parser.add_argument(\n",
        "        \"--num_epochs\",\n",
        "        help=\"Number of epochs to train the model.\",\n",
        "        type=int,\n",
        "        default=10\n",
        "    )\n",
        "    parser.add_argument(\n",
        "        \"--train_examples\",\n",
        "        help=\"\"\"Number of examples (in thousands) to run the training job over.\n",
        "        If this is more than actual # of examples available, it cycles through\n",
        "        them. So specifying 1000 here when you have only 100k examples makes\n",
        "        this 10 epochs.\"\"\",\n",
        "        type=int,\n",
        "        default=5000\n",
        "    )\n",
        "    parser.add_argument(\n",
        "        \"--eval_steps\",\n",
        "        help=\"\"\"Positive number of steps for which to evaluate model. Default\n",
        "        to None, which means to evaluate until input_fn raises an end-of-input\n",
        "        exception\"\"\",\n",
        "        type=int,\n",
        "        default=None\n",
        "    )\n",
        "\n",
        "    # Parse all arguments\n",
        "    args = parser.parse_args()\n",
        "    arguments = args.__dict__\n",
        "\n",
        "    # Unused args provided by service\n",
        "    arguments.pop(\"job_dir\", None)\n",
        "    arguments.pop(\"job-dir\", None)\n",
        "\n",
        "    # Modify some arguments\n",
        "    arguments[\"train_examples\"] *= 1000\n",
        "\n",
        "    # Append trial_id to path if we are doing hptuning\n",
        "    # This code can be removed if you are not using hyperparameter tuning\n",
        "    arguments[\"output_dir\"] = os.path.join(\n",
        "        arguments[\"output_dir\"],\n",
        "        json.loads(\n",
        "            os.environ.get(\"TF_CONFIG\", \"{}\")\n",
        "        ).get(\"task\", {}).get(\"trial\", \"\")\n",
        "    )\n",
        "\n",
        "    # Run the training job\n",
        "    model.train_and_evaluate(arguments)"
      ],
      "execution_count": null,
      "outputs": [
        {
          "name": "stdout",
          "output_type": "stream",
          "text": [
            "Overwriting babyweight/trainer/task.py\n"
          ]
        }
      ]
    },
    {
      "cell_type": "markdown",
      "metadata": {
        "id": "dnSVVimHb8XZ"
      },
      "source": [
        "In the same way we can write to the file `model.py` the model that we developed in the previous notebooks. \n",
        "\n",
        "### Create trainer module's model.py to hold Keras model code.\n",
        "\n",
        "To create our `model.py`, we'll use the code we wrote for the Wide & Deep model. Look back at your [9_keras_wide_and_deep_babyweight](../solutions/9_keras_wide_and_deep_babyweight.ipynb) notebook and copy/paste the necessary code from that notebook into its place in the cell below."
      ]
    },
    {
      "cell_type": "code",
      "metadata": {
        "id": "QpYzk1Cib8Xa",
        "outputId": "7e6eefd8-a822-4d33-dfd8-c200c3d1d1f3"
      },
      "source": [
        "%%writefile babyweight/trainer/model.py\n",
        "import datetime\n",
        "import os\n",
        "import shutil\n",
        "import numpy as np\n",
        "import tensorflow as tf\n",
        "import hypertune\n",
        "\n",
        "# Determine CSV, label, and key columns\n",
        "CSV_COLUMNS = [\"weight_pounds\",\n",
        "               \"is_male\",\n",
        "               \"mother_age\",\n",
        "               \"plurality\",\n",
        "               \"gestation_weeks\"]\n",
        "LABEL_COLUMN = \"weight_pounds\"\n",
        "\n",
        "# Set default values for each CSV column.\n",
        "# Treat is_male and plurality as strings.\n",
        "DEFAULTS = [[0.0], [\"null\"], [0.0], [\"null\"], [0.0]]\n",
        "\n",
        "\n",
        "def features_and_labels(row_data):\n",
        "    \"\"\"Splits features and labels from feature dictionary.\n",
        "\n",
        "    Args:\n",
        "        row_data: Dictionary of CSV column names and tensor values.\n",
        "    Returns:\n",
        "        Dictionary of feature tensors and label tensor.\n",
        "    \"\"\"\n",
        "    label = row_data.pop(LABEL_COLUMN)\n",
        "\n",
        "    return row_data, label  # features, label\n",
        "\n",
        "\n",
        "def load_dataset(pattern, batch_size=1, mode='eval'):\n",
        "    \"\"\"Loads dataset using the tf.data API from CSV files.\n",
        "\n",
        "    Args:\n",
        "        pattern: str, file pattern to glob into list of files.\n",
        "        batch_size: int, the number of examples per batch.\n",
        "        mode: 'train' | 'eval' to determine if training or evaluating.\n",
        "    Returns:\n",
        "        `Dataset` object.\n",
        "    \"\"\"\n",
        "    print(\"mode = {}\".format(mode))\n",
        "    # Make a CSV dataset\n",
        "    dataset = tf.data.experimental.make_csv_dataset(\n",
        "        file_pattern=pattern,\n",
        "        batch_size=batch_size,\n",
        "        column_names=CSV_COLUMNS,\n",
        "        column_defaults=DEFAULTS)\n",
        "\n",
        "    # Map dataset to features and label\n",
        "    dataset = dataset.map(map_func=features_and_labels)  # features, label\n",
        "\n",
        "    # Shuffle and repeat for training\n",
        "    if mode == 'train':\n",
        "        dataset = dataset.shuffle(buffer_size=1000).repeat()\n",
        "\n",
        "    # Take advantage of multi-threading; 1=AUTOTUNE\n",
        "    dataset = dataset.prefetch(buffer_size=1)\n",
        "\n",
        "    return dataset\n",
        "\n",
        "\n",
        "def create_input_layers():\n",
        "    \"\"\"Creates dictionary of input layers for each feature.\n",
        "\n",
        "    Returns:\n",
        "        Dictionary of `tf.Keras.layers.Input` layers for each feature.\n",
        "    \"\"\"\n",
        "    deep_inputs = {\n",
        "        colname: tf.keras.layers.Input(\n",
        "            name=colname, shape=(), dtype=\"float32\")\n",
        "        for colname in [\"mother_age\", \"gestation_weeks\"]\n",
        "    }\n",
        "\n",
        "    wide_inputs = {\n",
        "        colname: tf.keras.layers.Input(\n",
        "            name=colname, shape=(), dtype=\"string\")\n",
        "        for colname in [\"is_male\", \"plurality\"]\n",
        "    }\n",
        "\n",
        "    inputs = {**wide_inputs, **deep_inputs}\n",
        "\n",
        "    return inputs\n",
        "\n",
        "\n",
        "def categorical_fc(name, values):\n",
        "    \"\"\"Helper function to wrap categorical feature by indicator column.\n",
        "\n",
        "    Args:\n",
        "        name: str, name of feature.\n",
        "        values: list, list of strings of categorical values.\n",
        "    Returns:\n",
        "        Categorical and indicator column of categorical feature.\n",
        "    \"\"\"\n",
        "    cat_column = tf.feature_column.categorical_column_with_vocabulary_list(\n",
        "            key=name, vocabulary_list=values)\n",
        "    ind_column = tf.feature_column.indicator_column(\n",
        "        categorical_column=cat_column)\n",
        "\n",
        "    return cat_column, ind_column\n",
        "\n",
        "\n",
        "def create_feature_columns(nembeds):\n",
        "    \"\"\"Creates wide and deep dictionaries of feature columns from inputs.\n",
        "\n",
        "    Args:\n",
        "        nembeds: int, number of dimensions to embed categorical column down to.\n",
        "    Returns:\n",
        "        Wide and deep dictionaries of feature columns.\n",
        "    \"\"\"\n",
        "    deep_fc = {\n",
        "        colname: tf.feature_column.numeric_column(key=colname)\n",
        "        for colname in [\"mother_age\", \"gestation_weeks\"]\n",
        "    }\n",
        "    wide_fc = {}\n",
        "    is_male, wide_fc[\"is_male\"] = categorical_fc(\n",
        "        \"is_male\", [\"True\", \"False\", \"Unknown\"])\n",
        "    plurality, wide_fc[\"plurality\"] = categorical_fc(\n",
        "        \"plurality\", [\"Single(1)\", \"Twins(2)\", \"Triplets(3)\",\n",
        "                      \"Quadruplets(4)\", \"Quintuplets(5)\", \"Multiple(2+)\"])\n",
        "\n",
        "    # Bucketize the float fields. This makes them wide\n",
        "    age_buckets = tf.feature_column.bucketized_column(\n",
        "        source_column=deep_fc[\"mother_age\"],\n",
        "        boundaries=np.arange(15, 45, 1).tolist())\n",
        "    wide_fc[\"age_buckets\"] = tf.feature_column.indicator_column(\n",
        "        categorical_column=age_buckets)\n",
        "\n",
        "    gestation_buckets = tf.feature_column.bucketized_column(\n",
        "        source_column=deep_fc[\"gestation_weeks\"],\n",
        "        boundaries=np.arange(17, 47, 1).tolist())\n",
        "    wide_fc[\"gestation_buckets\"] = tf.feature_column.indicator_column(\n",
        "        categorical_column=gestation_buckets)\n",
        "\n",
        "    # Cross all the wide columns, have to do the crossing before we one-hot\n",
        "    crossed = tf.feature_column.crossed_column(\n",
        "        keys=[age_buckets, gestation_buckets],\n",
        "        hash_bucket_size=1000)\n",
        "    deep_fc[\"crossed_embeds\"] = tf.feature_column.embedding_column(\n",
        "        categorical_column=crossed, dimension=nembeds)\n",
        "\n",
        "    return wide_fc, deep_fc\n",
        "\n",
        "\n",
        "def get_model_outputs(wide_inputs, deep_inputs, dnn_hidden_units):\n",
        "    \"\"\"Creates model architecture and returns outputs.\n",
        "\n",
        "    Args:\n",
        "        wide_inputs: Dense tensor used as inputs to wide side of model.\n",
        "        deep_inputs: Dense tensor used as inputs to deep side of model.\n",
        "        dnn_hidden_units: List of integers where length is number of hidden\n",
        "            layers and ith element is the number of neurons at ith layer.\n",
        "    Returns:\n",
        "        Dense tensor output from the model.\n",
        "    \"\"\"\n",
        "    # Hidden layers for the deep side\n",
        "    layers = [int(x) for x in dnn_hidden_units]\n",
        "    deep = deep_inputs\n",
        "    for layerno, numnodes in enumerate(layers):\n",
        "        deep = tf.keras.layers.Dense(\n",
        "            units=numnodes,\n",
        "            activation=\"relu\",\n",
        "            name=\"dnn_{}\".format(layerno+1))(deep)\n",
        "    deep_out = deep\n",
        "\n",
        "    # Linear model for the wide side\n",
        "    wide_out = tf.keras.layers.Dense(\n",
        "        units=10, activation=\"relu\", name=\"linear\")(wide_inputs)\n",
        "\n",
        "    # Concatenate the two sides\n",
        "    both = tf.keras.layers.concatenate(\n",
        "        inputs=[deep_out, wide_out], name=\"both\")\n",
        "\n",
        "    # Final output is a linear activation because this is regression\n",
        "    output = tf.keras.layers.Dense(\n",
        "        units=1, activation=\"linear\", name=\"weight\")(both)\n",
        "\n",
        "    return output\n",
        "\n",
        "\n",
        "def rmse(y_true, y_pred):\n",
        "    \"\"\"Calculates RMSE evaluation metric.\n",
        "\n",
        "    Args:\n",
        "        y_true: tensor, true labels.\n",
        "        y_pred: tensor, predicted labels.\n",
        "    Returns:\n",
        "        Tensor with value of RMSE between true and predicted labels.\n",
        "    \"\"\"\n",
        "    return tf.sqrt(tf.reduce_mean(tf.square(y_pred - y_true)))\n",
        "\n",
        "\n",
        "def build_wide_deep_model(dnn_hidden_units=[64, 32], nembeds=3):\n",
        "    \"\"\"Builds wide and deep model using Keras Functional API.\n",
        "\n",
        "    Returns:\n",
        "        `tf.keras.models.Model` object.\n",
        "    \"\"\"\n",
        "    # Create input layers\n",
        "    inputs = create_input_layers()\n",
        "\n",
        "    # Create feature columns for both wide and deep\n",
        "    wide_fc, deep_fc = create_feature_columns(nembeds)\n",
        "\n",
        "    # The constructor for DenseFeatures takes a list of numeric columns\n",
        "    # The Functional API in Keras requires: LayerConstructor()(inputs)\n",
        "    wide_inputs = tf.keras.layers.DenseFeatures(\n",
        "        feature_columns=wide_fc.values(), name=\"wide_inputs\")(inputs)\n",
        "    deep_inputs = tf.keras.layers.DenseFeatures(\n",
        "        feature_columns=deep_fc.values(), name=\"deep_inputs\")(inputs)\n",
        "\n",
        "    # Get output of model given inputs\n",
        "    output = get_model_outputs(wide_inputs, deep_inputs, dnn_hidden_units)\n",
        "\n",
        "    # Build model and compile it all together\n",
        "    model = tf.keras.models.Model(inputs=inputs, outputs=output)\n",
        "    model.compile(optimizer=\"adam\", loss=\"mse\", metrics=[rmse, \"mse\"])\n",
        "\n",
        "    return model\n",
        "\n",
        "\n",
        "def train_and_evaluate(args):\n",
        "    model = build_wide_deep_model(args[\"nnsize\"], args[\"nembeds\"])\n",
        "    print(\"Here is our Wide-and-Deep architecture so far:\\n\")\n",
        "    print(model.summary())\n",
        "\n",
        "    trainds = load_dataset(\n",
        "        args[\"train_data_path\"],\n",
        "        args[\"batch_size\"],\n",
        "        'train')\n",
        "\n",
        "    evalds = load_dataset(\n",
        "        args[\"eval_data_path\"], 1000, 'eval')\n",
        "    if args[\"eval_steps\"]:\n",
        "        evalds = evalds.take(count=args[\"eval_steps\"])\n",
        "\n",
        "    num_batches = args[\"batch_size\"] * args[\"num_epochs\"]\n",
        "    steps_per_epoch = args[\"train_examples\"] // num_batches\n",
        "\n",
        "    checkpoint_path = os.path.join(args[\"output_dir\"], \"checkpoints/babyweight\")\n",
        "    cp_callback = tf.keras.callbacks.ModelCheckpoint(\n",
        "        filepath=checkpoint_path, verbose=1, save_weights_only=True)\n",
        "\n",
        "    history = model.fit(\n",
        "        trainds,\n",
        "        validation_data=evalds,\n",
        "        epochs=args[\"num_epochs\"],\n",
        "        steps_per_epoch=steps_per_epoch,\n",
        "        verbose=2,  # 0=silent, 1=progress bar, 2=one line per epoch\n",
        "        callbacks=[cp_callback])\n",
        "\n",
        "    EXPORT_PATH = os.path.join(\n",
        "        args[\"output_dir\"], datetime.datetime.now().strftime(\"%Y%m%d%H%M%S\"))\n",
        "    tf.saved_model.save(\n",
        "        obj=model, export_dir=EXPORT_PATH)  # with default serving function\n",
        "    \n",
        "    hp_metric = history.history['val_rmse'][-1]\n",
        "\n",
        "    hpt = hypertune.HyperTune()\n",
        "    hpt.report_hyperparameter_tuning_metric(\n",
        "        hyperparameter_metric_tag='rmse',\n",
        "        metric_value=hp_metric,\n",
        "        global_step=args['num_epochs'])\n",
        "    \n",
        "    print(\"Exported trained model to {}\".format(EXPORT_PATH))"
      ],
      "execution_count": null,
      "outputs": [
        {
          "name": "stdout",
          "output_type": "stream",
          "text": [
            "Overwriting babyweight/trainer/model.py\n"
          ]
        }
      ]
    },
    {
      "cell_type": "markdown",
      "metadata": {
        "id": "A1-hYOfXb8Xe"
      },
      "source": [
        "## Training on Cloud AI Platform\n",
        "\n",
        "Now that we see everything is working locally, it's time to train on the cloud! "
      ]
    },
    {
      "cell_type": "markdown",
      "metadata": {
        "id": "TvJ5bnddb8Xg"
      },
      "source": [
        "To submit to the Cloud we use [`gcloud ai-platform jobs submit training [jobname]`](https://cloud.google.com/sdk/gcloud/reference/ml-engine/jobs/submit/training) and simply specify some additional parameters for AI Platform Training Service:\n",
        "- jobname: A unique identifier for the Cloud job. We usually append system time to ensure uniqueness\n",
        "- job-dir: A GCS location to upload the Python package to\n",
        "- runtime-version: Version of TF to use.\n",
        "- python-version: Version of Python to use. Currently only Python 3.7 is supported for TF 2.1.\n",
        "- region: Cloud region to train in. See [here](https://cloud.google.com/ml-engine/docs/tensorflow/regions) for supported AI Platform Training Service regions\n",
        "\n",
        "Below the `-- \\` we add in the arguments for our `task.py` file."
      ]
    },
    {
      "cell_type": "code",
      "metadata": {
        "id": "uWX1g8grb8Xh",
        "outputId": "532c6e74-cb68-48b1-c6ec-bac533eb53fe"
      },
      "source": [
        "%%bash\n",
        "\n",
        "OUTDIR=gs://${BUCKET}/babyweight/trained_model\n",
        "JOBID=babyweight_$(date -u +%y%m%d_%H%M%S)\n",
        "\n",
        "gcloud ai-platform jobs submit training ${JOBID} \\\n",
        "    --region=${REGION} \\\n",
        "    --module-name=trainer.task \\\n",
        "    --package-path=$(pwd)/babyweight/trainer \\\n",
        "    --job-dir=${OUTDIR} \\\n",
        "    --staging-bucket=gs://${BUCKET} \\\n",
        "    --master-machine-type=n1-standard-8 \\\n",
        "    --scale-tier=CUSTOM \\\n",
        "    --runtime-version=${TFVERSION} \\\n",
        "    --python-version=${PYTHONVERSION} \\\n",
        "    -- \\\n",
        "    --train_data_path=gs://${BUCKET}/babyweight/data/train*.csv \\\n",
        "    --eval_data_path=gs://${BUCKET}/babyweight/data/eval*.csv \\\n",
        "    --output_dir=${OUTDIR} \\\n",
        "    --num_epochs=10 \\\n",
        "    --train_examples=10000 \\\n",
        "    --eval_steps=100 \\\n",
        "    --batch_size=32 \\\n",
        "    --nembeds=8"
      ],
      "execution_count": null,
      "outputs": [
        {
          "name": "stdout",
          "output_type": "stream",
          "text": [
            "jobId: babyweight_201216_113042\n",
            "state: QUEUED\n"
          ]
        },
        {
          "name": "stderr",
          "output_type": "stream",
          "text": [
            "Job [babyweight_201216_113042] submitted successfully.\n",
            "Your job is still active. You may view the status of your job with the command\n",
            "\n",
            "  $ gcloud ai-platform jobs describe babyweight_201216_113042\n",
            "\n",
            "or continue streaming the logs with the command\n",
            "\n",
            "  $ gcloud ai-platform jobs stream-logs babyweight_201216_113042\n"
          ]
        }
      ]
    },
    {
      "cell_type": "code",
      "metadata": {
        "id": "hNNd0ZNNb8Xi",
        "outputId": "e4cc42e4-1777-4dfd-9fae-8df1b535e1b1"
      },
      "source": [
        "!gcloud ai-platform jobs describe babyweight_201216_113042"
      ],
      "execution_count": null,
      "outputs": [
        {
          "name": "stdout",
          "output_type": "stream",
          "text": [
            "createTime: '2020-12-16T11:30:44Z'\n",
            "endTime: '2020-12-16T11:46:52Z'\n",
            "etag: P49YstqGQJw=\n",
            "jobId: babyweight_201216_113042\n",
            "startTime: '2020-12-16T11:31:19Z'\n",
            "state: SUCCEEDED\n",
            "trainingInput:\n",
            "  args:\n",
            "  - --train_data_path=gs://qwiklabs-gcp-02-df71edd43e35/babyweight/data/train*.csv\n",
            "  - --eval_data_path=gs://qwiklabs-gcp-02-df71edd43e35/babyweight/data/eval*.csv\n",
            "  - --output_dir=gs://qwiklabs-gcp-02-df71edd43e35/babyweight/trained_model\n",
            "  - --num_epochs=10\n",
            "  - --train_examples=10000\n",
            "  - --eval_steps=100\n",
            "  - --batch_size=32\n",
            "  - --nembeds=8\n",
            "  jobDir: gs://qwiklabs-gcp-02-df71edd43e35/babyweight/trained_model\n",
            "  masterType: n1-standard-8\n",
            "  packageUris:\n",
            "  - gs://qwiklabs-gcp-02-df71edd43e35/babyweight_201216_113042/097d4a7f14f856d1b704aa7ceeb2a65cf45fbb5e888e9756297f27dc907162fa/babyweight-0.1.tar.gz\n",
            "  pythonModule: trainer.task\n",
            "  pythonVersion: '3.7'\n",
            "  region: us-central1\n",
            "  runtimeVersion: '2.1'\n",
            "  scaleTier: CUSTOM\n",
            "trainingOutput:\n",
            "  consumedMLUnits: 0.17\n",
            "\n",
            "View job in the Cloud Console at:\n",
            "https://console.cloud.google.com/mlengine/jobs/babyweight_201216_113042?project=qwiklabs-gcp-02-df71edd43e35\n",
            "\n",
            "View logs at:\n",
            "https://console.cloud.google.com/logs?resource=ml_job%2Fjob_id%2Fbabyweight_201216_113042&project=qwiklabs-gcp-02-df71edd43e35\n"
          ]
        }
      ]
    },
    {
      "cell_type": "markdown",
      "metadata": {
        "id": "lzBgd3QRb8Xj"
      },
      "source": [
        "The training job should complete within 15 to 20 minutes. You do not need to wait for this training job to finish before moving forward in the notebook, but will need a trained model."
      ]
    },
    {
      "cell_type": "markdown",
      "metadata": {
        "id": "RtGMPi65b8Xj"
      },
      "source": [
        "## Check our trained model files\n",
        "\n",
        "Let's check the directory structure of our outputs of our trained model in folder we exported. We'll want to deploy the saved_model.pb within the timestamped directory as well as the variable values in the variables folder. Therefore, we need the path of the timestamped directory so that everything within it can be found by Cloud AI Platform's model deployment service."
      ]
    },
    {
      "cell_type": "code",
      "metadata": {
        "id": "BnTycV3lb8Xk",
        "outputId": "b27be8f9-f793-4930-dd12-246259e139e7"
      },
      "source": [
        "%%bash\n",
        "gsutil ls gs://${BUCKET}/babyweight/trained_model"
      ],
      "execution_count": null,
      "outputs": [
        {
          "name": "stdout",
          "output_type": "stream",
          "text": [
            "gs://qwiklabs-gcp-02-df71edd43e35/babyweight/trained_model/checkpoint\n",
            "gs://qwiklabs-gcp-02-df71edd43e35/babyweight/trained_model/events.out.tfevents.1529347276.cmle-training-master-a137ac0fff-0-9q8r4\n",
            "gs://qwiklabs-gcp-02-df71edd43e35/babyweight/trained_model/graph.pbtxt\n",
            "gs://qwiklabs-gcp-02-df71edd43e35/babyweight/trained_model/model.ckpt-342784.data-00000-of-00003\n",
            "gs://qwiklabs-gcp-02-df71edd43e35/babyweight/trained_model/model.ckpt-342784.data-00001-of-00003\n",
            "gs://qwiklabs-gcp-02-df71edd43e35/babyweight/trained_model/model.ckpt-342784.data-00002-of-00003\n",
            "gs://qwiklabs-gcp-02-df71edd43e35/babyweight/trained_model/model.ckpt-342784.index\n",
            "gs://qwiklabs-gcp-02-df71edd43e35/babyweight/trained_model/model.ckpt-342784.meta\n",
            "gs://qwiklabs-gcp-02-df71edd43e35/babyweight/trained_model/model.ckpt-376661.data-00000-of-00003\n",
            "gs://qwiklabs-gcp-02-df71edd43e35/babyweight/trained_model/model.ckpt-376661.data-00001-of-00003\n",
            "gs://qwiklabs-gcp-02-df71edd43e35/babyweight/trained_model/model.ckpt-376661.data-00002-of-00003\n",
            "gs://qwiklabs-gcp-02-df71edd43e35/babyweight/trained_model/model.ckpt-376661.index\n",
            "gs://qwiklabs-gcp-02-df71edd43e35/babyweight/trained_model/model.ckpt-376661.meta\n",
            "gs://qwiklabs-gcp-02-df71edd43e35/babyweight/trained_model/model.ckpt-390628.data-00000-of-00003\n",
            "gs://qwiklabs-gcp-02-df71edd43e35/babyweight/trained_model/model.ckpt-390628.data-00001-of-00003\n",
            "gs://qwiklabs-gcp-02-df71edd43e35/babyweight/trained_model/model.ckpt-390628.data-00002-of-00003\n",
            "gs://qwiklabs-gcp-02-df71edd43e35/babyweight/trained_model/model.ckpt-390628.index\n",
            "gs://qwiklabs-gcp-02-df71edd43e35/babyweight/trained_model/model.ckpt-390628.meta\n",
            "gs://qwiklabs-gcp-02-df71edd43e35/babyweight/trained_model/20201216114350/\n",
            "gs://qwiklabs-gcp-02-df71edd43e35/babyweight/trained_model/checkpoints/\n",
            "gs://qwiklabs-gcp-02-df71edd43e35/babyweight/trained_model/eval/\n",
            "gs://qwiklabs-gcp-02-df71edd43e35/babyweight/trained_model/export/\n"
          ]
        }
      ]
    },
    {
      "cell_type": "markdown",
      "metadata": {
        "id": "9_HXM8kLb8Xm"
      },
      "source": [
        "Copyright 2020 Google Inc. Licensed under the Apache License, Version 2.0 (the \"License\"); you may not use this file except in compliance with the License. You may obtain a copy of the License at http://www.apache.org/licenses/LICENSE-2.0 Unless required by applicable law or agreed to in writing, software distributed under the License is distributed on an \"AS IS\" BASIS, WITHOUT WARRANTIES OR CONDITIONS OF ANY KIND, either express or implied. See the License for the specific language governing permissions and limitations under the License"
      ]
    },
    {
      "cell_type": "code",
      "metadata": {
        "id": "Ww8HA413b8Xn"
      },
      "source": [
        ""
      ],
      "execution_count": null,
      "outputs": []
    }
  ]
}